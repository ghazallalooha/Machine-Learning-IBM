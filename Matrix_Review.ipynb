{
 "cells": [
  {
   "cell_type": "markdown",
   "metadata": {},
   "source": [
    "<p style=\"text-align:center\">\n",
    "    <a href=\"https://skills.network/?utm_medium=Exinfluencer&utm_source=Exinfluencer&utm_content=000026UJ&utm_term=10006555&utm_id=NA-SkillsNetwork-Channel-SkillsNetworkCoursesIBMML0187ENSkillsNetwork31430127-2022-01-01\">\n",
    "    <img src=\"https://cf-courses-data.s3.us.cloud-object-storage.appdomain.cloud/assets/logos/SN_web_lightmode.png\" width=\"200\" alt=\"Skills Network Logo\"  />\n",
    "    </a>\n",
    "</p>\n"
   ]
  },
  {
   "cell_type": "markdown",
   "metadata": {},
   "source": [
    "# Matrix Review\n",
    "\n",
    "Estimated time needed: **45** minutes\n"
   ]
  },
  {
   "cell_type": "markdown",
   "metadata": {},
   "source": [
    "Matrix operations are a fundamental part of machine learning and many fields, such as digital signal processing, optimization, control systems, computer graphics, and so on. As a result, there has been a lot of work on optimizing matrix operations, not only in software, but in hardware. Let's say you work for a AI hardware  company, the company has developed a new processor that can only perform matrix operations. The company needs you to implement some popular  statistics such as mean, variance and Principle Component Analysis using Matrix operations\n"
   ]
  },
  {
   "cell_type": "markdown",
   "metadata": {},
   "source": [
    "<img src=\"https://cf-courses-data.s3.us.cloud-object-storage.appdomain.cloud/IBM-ML0187EN-SkillsNetwork/labs/module%203/images/technology-electronic-device-computer-hardware-computer-component-electronics-motherboard-personal-computer-hardware-cpu-computer-accessory-1536663.jpeg\" width=\"500\" alt=\"https://pxhere.com/en/photo/1536663\">\n"
   ]
  },
  {
   "cell_type": "markdown",
   "metadata": {
    "tags": []
   },
   "source": [
    "## Table of Contents\n",
    "\n",
    "<ol>\n",
    "    <li><a href=\"https://#Objectives\">Objectives</a></li>\n",
    "    <li>\n",
    "        <a href=\"https://#Setup\">Setup</a>\n",
    "        <ol>\n",
    "            <li><a href=\"https://#Installing-Required-Libraries\">Installing Required Libraries</a></li>\n",
    "            <li><a href=\"https://#Importing-Required-Libraries\">Importing Required Libraries</a></li>\n",
    "            <li><a href=\"https://#Defining-Helper-Functions\">Defining Helper Functions</a></li>\n",
    "        </ol>\n",
    "    </li>\n",
    "    <li>\n",
    "        <a href=\"https://#Basics of Matrices\">Basics of Matrices</a>\n",
    "        <ol>\n",
    "            <li><a href=\"https://https://https://#What's a Matrix?\">What's a Matrix? </a></li>\n",
    "            <li><a href=\"https://https://https://#Rank of a Matrix\">Rank of a Matrix </a></li>\n",
    "            <li><a href=\"https://#Frobenius Norm of a Matrix\">Frobenius Norm of a Matrix</a></li>\n",
    "            <li><a href=\"https://#Matrix Additione\"> Matrix Addition</a></li>\n",
    "        </ol>\n",
    "    </li>\n",
    "  <li>\n",
    "        <a href=\"https://https://#Matrix and Vector Multiplication\">Matrix and Vector Multiplication</a>\n",
    "        <ol>\n",
    "            <li><a href=\"#What's a Matrix?\"> Dot-Product </a></li>\n",
    "            <li><a href=\"#Rank of a Matrix\">The Outer product</a></li>\n",
    "            <li><a href=\"#Matrix and Vector Multiplication\">Matrix and Vector Multiplication</a></li>\n",
    "            <li><a href=\"https://#Matrix Multiplication\">Multiplying Matrices</a></li>\n",
    "     </ol>\n",
    "   </li>\n",
    "   <li>\n",
    "        <a href=\"https://#Eigen Decomposition\">Eigen Decomposition</a>\n",
    "        <ol>\n",
    "            <li><a href=\"#What's a Matrix?\"> Eigenvectors and Eigenvalues </a></li>\n",
    "            <li><a href=\"#Rank of a Matrix\">The Factorization for PCA</a></li>\n",
    "        </ol>     \n",
    "   </li>\n",
    "\n",
    " </ol>    \n"
   ]
  },
  {
   "cell_type": "markdown",
   "metadata": {},
   "source": [
    "***\n"
   ]
  },
  {
   "cell_type": "markdown",
   "metadata": {},
   "source": [
    "## Objectives\n",
    "\n",
    "After completing this lab you will be able to:\n",
    "\n",
    "*   **Understand** Basic Matrix operations such as Matrix addition, Vector Multiplication  Eigen decomposition\n",
    "\n",
    "*   **Apply** Apply these Matrix operations using numpy\n"
   ]
  },
  {
   "cell_type": "markdown",
   "metadata": {},
   "source": [
    "## Setup\n"
   ]
  },
  {
   "cell_type": "markdown",
   "metadata": {},
   "source": [
    "For this lab, we will be using the following libraries:\n",
    "\n",
    "*   [`pandas`](https://pandas.pydata.org/?utm_medium=Exinfluencer&utm_source=Exinfluencer&utm_content=000026UJ&utm_term=10006555&utm_id=NA-SkillsNetwork-Channel-SkillsNetworkCoursesIBMML240ENSkillsNetwork34171862-2022-01-01) for managing the data.\n",
    "*   [`numpy`](https://numpy.org/?utm_medium=Exinfluencer&utm_source=Exinfluencer&utm_content=000026UJ&utm_term=10006555&utm_id=NA-SkillsNetwork-Channel-SkillsNetworkCoursesIBMML240ENSkillsNetwork34171862-2022-01-01) for mathematical operations.\n",
    "*   [`seaborn`](https://seaborn.pydata.org/?utm_medium=Exinfluencer&utm_source=Exinfluencer&utm_content=000026UJ&utm_term=10006555&utm_id=NA-SkillsNetwork-Channel-SkillsNetworkCoursesIBMML240ENSkillsNetwork34171862-2022-01-01) for visualizing the data.\n",
    "*   [`matplotlib`](https://matplotlib.org/?utm_medium=Exinfluencer&utm_source=Exinfluencer&utm_content=000026UJ&utm_term=10006555&utm_id=NA-SkillsNetwork-Channel-SkillsNetworkCoursesIBMML240ENSkillsNetwork34171862-2022-01-01) for visualizing the data.\n",
    "*   [`sklearn`](https://scikit-learn.org/stable/?utm_medium=Exinfluencer&utm_source=Exinfluencer&utm_content=000026UJ&utm_term=10006555&utm_id=NA-SkillsNetwork-Channel-SkillsNetworkCoursesIBMML240ENSkillsNetwork34171862-2022-01-01) for machine learning and machine-learning-pipeline related functions.\n"
   ]
  },
  {
   "cell_type": "markdown",
   "metadata": {},
   "source": [
    "### Installing required libraries\n"
   ]
  },
  {
   "cell_type": "markdown",
   "metadata": {},
   "source": [
    "The following required modules are pre-installed in the Skills Network Labs environment. However, if you run this notebook commands in a different Jupyter environment (e.g. Watson Studio or Ananconda) you will need to install these libraries by removing the `#` sign before `!mamba` in the code cell below.\n"
   ]
  },
  {
   "cell_type": "code",
   "execution_count": null,
   "metadata": {},
   "outputs": [],
   "source": [
    "# All Libraries required for this lab are listed below. The libraries pre-installed on Skills Network Labs are commented.\n",
    "# !mamba install -qy pandas==1.3.4 numpy==1.21.4 seaborn==0.9.0 matplotlib==3.5.0 scikit-learn==0.20.1\n",
    "# Note: If your environment doesn't support \"!mamba install\", use \"!pip install pandas ==1.3.4 ...\"\n"
   ]
  },
  {
   "cell_type": "markdown",
   "metadata": {},
   "source": [
    "You can install and use  <a href=\"https://www.sympy.org/en/index.html?utm_medium=Exinfluencer&utm_source=Exinfluencer&utm_content=000026UJ&utm_term=10006555&utm_id=NA-SkillsNetwork-Channel-SkillsNetworkCoursesIBMML0187ENSkillsNetwork31430127-2022-01-01\">SymPy </a> to print matrices\n"
   ]
  },
  {
   "cell_type": "code",
   "execution_count": 1,
   "metadata": {},
   "outputs": [
    {
     "name": "stdout",
     "output_type": "stream",
     "text": [
      "Collecting package metadata (current_repodata.json): ...working... done"
     ]
    },
    {
     "name": "stderr",
     "output_type": "stream",
     "text": [
      "\n",
      "The environment is inconsistent, please check the package plan carefully\n",
      "The following packages are causing the inconsistency:\n",
      "\n",
      "  - defaults/win-64::anaconda==2021.05=py38_0\n",
      "  - defaults/win-64::anaconda-client==1.7.2=py38_0\n",
      "  - defaults/win-64::anaconda-navigator==2.1.4=py38haa95532_0\n",
      "  - defaults/noarch::anaconda-project==0.9.1=pyhd3eb1b0_1\n",
      "  - defaults/win-64::astropy==4.2.1=py38h2bbff1b_1\n",
      "  - defaults/noarch::babel==2.9.0=pyhd3eb1b0_0\n",
      "  - defaults/win-64::bkcharts==0.2=py38_0\n",
      "  - defaults/win-64::bokeh==2.3.2=py38haa95532_0\n",
      "  - defaults/win-64::bottleneck==1.3.2=py38h2a96729_1"
     ]
    },
    {
     "name": "stdout",
     "output_type": "stream",
     "text": [
      "\n",
      "Solving environment: ...working... failed with initial frozen solve. Retrying with flexible solve.\n",
      "Solving environment: ...working... done\n",
      "Collecting package metadata (repodata.json): ...working... done\n",
      "Solving environment: ...working... done\n",
      "\n",
      "## Package Plan ##\n",
      "\n",
      "  environment location: D:\\ghazal\n",
      "\n",
      "  added / updated specs:\n",
      "    - sympy\n",
      "\n",
      "\n",
      "The following packages will be downloaded:\n",
      "\n",
      "    package                    |            build\n",
      "    ---------------------------|-----------------\n",
      "    _anaconda_depends-2020.07  |           py38_0           5 KB  anaconda\n",
      "    anaconda-custom            |           py38_1          32 KB  anaconda\n",
      "    beautifulsoup4-4.11.1      |   py38haa95532_0         188 KB  anaconda\n",
      "    ca-certificates-2023.01.10 |       haa95532_0         158 KB  anaconda\n",
      "    certifi-2022.12.7          |   py38haa95532_0         152 KB  anaconda\n",
      "    charset-normalizer-2.0.4   |     pyhd3eb1b0_0          33 KB  anaconda\n",
      "    gmpy2-2.1.2                |   py38h7f96b67_0         180 KB  anaconda\n",
      "    ipywidgets-7.6.5           |     pyhd3eb1b0_1         109 KB  anaconda\n",
      "    joblib-1.1.1               |   py38haa95532_0         409 KB  anaconda\n",
      "    libllvm9-9.0.1             |       h21ff451_0          62 KB  anaconda\n",
      "    lxml-4.6.3                 |   py38h9b66d53_0         1.1 MB  anaconda\n",
      "    mpc-1.1.0                  |       h7edee0f_1         311 KB  anaconda\n",
      "    mpfr-4.0.2                 |       h62dcd97_1         1.9 MB  anaconda\n",
      "    mpir-3.0.0                 |       hec2e145_1         3.0 MB  anaconda\n",
      "    nbformat-5.7.0             |   py38haa95532_0         162 KB  anaconda\n",
      "    numpy-base-1.20.1          |   py38haf7ebc8_0         5.3 MB  anaconda\n",
      "    openssl-1.1.1s             |       h2bbff1b_0         5.8 MB  anaconda\n",
      "    pandas-1.4.4               |   py38hd77b12b_0        11.0 MB  anaconda\n",
      "    pathtools-0.1.2            |     pyhd3eb1b0_1          10 KB  anaconda\n",
      "    python-fastjsonschema-2.16.2|   py38haa95532_0         263 KB  anaconda\n",
      "    pytz-2022.7                |   py38haa95532_0         245 KB  anaconda\n",
      "    requests-2.28.1            |   py38haa95532_0         100 KB  anaconda\n",
      "    scikit-learn-1.2.0         |   py38hd77b12b_1         7.7 MB  anaconda\n",
      "    sympy-1.11.1               |   py38haa95532_0        11.8 MB  anaconda\n",
      "    traitlets-5.7.1            |   py38haa95532_0         188 KB  anaconda\n",
      "    widgetsnbextension-3.5.2   |   py38haa95532_0         1.3 MB  anaconda\n",
      "    ------------------------------------------------------------\n",
      "                                           Total:        51.5 MB\n",
      "\n",
      "The following NEW packages will be INSTALLED:\n",
      "\n",
      "  _anaconda_depends  anaconda/win-64::_anaconda_depends-2020.07-py38_0\n",
      "  beautifulsoup4     anaconda/win-64::beautifulsoup4-4.11.1-py38haa95532_0\n",
      "  charset-normalizer anaconda/noarch::charset-normalizer-2.0.4-pyhd3eb1b0_0\n",
      "  gmpy2              anaconda/win-64::gmpy2-2.1.2-py38h7f96b67_0\n",
      "  ipywidgets         anaconda/noarch::ipywidgets-7.6.5-pyhd3eb1b0_1\n",
      "  joblib             anaconda/win-64::joblib-1.1.1-py38haa95532_0\n",
      "  libllvm9           anaconda/win-64::libllvm9-9.0.1-h21ff451_0\n",
      "  lxml               anaconda/win-64::lxml-4.6.3-py38h9b66d53_0\n",
      "  mpc                anaconda/win-64::mpc-1.1.0-h7edee0f_1\n",
      "  mpfr               anaconda/win-64::mpfr-4.0.2-h62dcd97_1\n",
      "  mpir               anaconda/win-64::mpir-3.0.0-hec2e145_1\n",
      "  nbformat           anaconda/win-64::nbformat-5.7.0-py38haa95532_0\n",
      "  numpy-base         anaconda/win-64::numpy-base-1.20.1-py38haf7ebc8_0\n",
      "  pandas             anaconda/win-64::pandas-1.4.4-py38hd77b12b_0\n",
      "  pathtools          anaconda/noarch::pathtools-0.1.2-pyhd3eb1b0_1\n",
      "  python-fastjsonsc~ anaconda/win-64::python-fastjsonschema-2.16.2-py38haa95532_0\n",
      "  pytz               anaconda/win-64::pytz-2022.7-py38haa95532_0\n",
      "  requests           anaconda/win-64::requests-2.28.1-py38haa95532_0\n",
      "  scikit-learn       anaconda/win-64::scikit-learn-1.2.0-py38hd77b12b_1\n",
      "  traitlets          anaconda/win-64::traitlets-5.7.1-py38haa95532_0\n",
      "  widgetsnbextension anaconda/win-64::widgetsnbextension-3.5.2-py38haa95532_0\n",
      "\n",
      "The following packages will be UPDATED:\n",
      "\n",
      "  ca-certificates    pkgs/main::ca-certificates-2021.4.13-~ --> anaconda::ca-certificates-2023.01.10-haa95532_0\n",
      "  certifi            pkgs/main::certifi-2020.12.5-py38haa9~ --> anaconda::certifi-2022.12.7-py38haa95532_0\n",
      "  openssl              pkgs/main::openssl-1.1.1k-h2bbff1b_0 --> anaconda::openssl-1.1.1s-h2bbff1b_0\n",
      "  sympy                 pkgs/main::sympy-1.8-py38haa95532_0 --> anaconda::sympy-1.11.1-py38haa95532_0\n",
      "\n",
      "The following packages will be SUPERSEDED by a higher-priority channel:\n",
      "\n",
      "  anaconda               pkgs/main::anaconda-2021.05-py38_0 --> anaconda::anaconda-custom-py38_1\n",
      "\n",
      "\n",
      "\n",
      "Downloading and Extracting Packages\n",
      "\n",
      "nbformat-5.7.0       | 162 KB    |            |   0% \n",
      "nbformat-5.7.0       | 162 KB    | 9          |  10% \n",
      "nbformat-5.7.0       | 162 KB    | ##9        |  30% \n",
      "nbformat-5.7.0       | 162 KB    | ######9    |  69% \n",
      "nbformat-5.7.0       | 162 KB    | ########## | 100% \n",
      "nbformat-5.7.0       | 162 KB    | ########## | 100% \n",
      "\n",
      "widgetsnbextension-3 | 1.3 MB    |            |   0% \n",
      "widgetsnbextension-3 | 1.3 MB    | 1          |   1% \n",
      "widgetsnbextension-3 | 1.3 MB    | 4          |   5% \n",
      "widgetsnbextension-3 | 1.3 MB    | 7          |   7% \n",
      "widgetsnbextension-3 | 1.3 MB    | #3         |  14% \n",
      "widgetsnbextension-3 | 1.3 MB    | ##2        |  22% \n",
      "widgetsnbextension-3 | 1.3 MB    | ##7        |  27% \n",
      "widgetsnbextension-3 | 1.3 MB    | ###4       |  35% \n",
      "widgetsnbextension-3 | 1.3 MB    | ####3      |  43% \n",
      "widgetsnbextension-3 | 1.3 MB    | #####      |  51% \n",
      "widgetsnbextension-3 | 1.3 MB    | ######     |  61% \n",
      "widgetsnbextension-3 | 1.3 MB    | ######9    |  69% \n",
      "widgetsnbextension-3 | 1.3 MB    | #######8   |  78% \n",
      "widgetsnbextension-3 | 1.3 MB    | ########6  |  87% \n",
      "widgetsnbextension-3 | 1.3 MB    | #########5 |  95% \n",
      "widgetsnbextension-3 | 1.3 MB    | ########## | 100% \n",
      "\n",
      "mpc-1.1.0            | 311 KB    |            |   0% \n",
      "mpc-1.1.0            | 311 KB    | 5          |   5% \n",
      "mpc-1.1.0            | 311 KB    | ####1      |  41% \n",
      "mpc-1.1.0            | 311 KB    | #######2   |  72% \n",
      "mpc-1.1.0            | 311 KB    | ########## | 100% \n",
      "mpc-1.1.0            | 311 KB    | ########## | 100% \n",
      "\n",
      "certifi-2022.12.7    | 152 KB    |            |   0% \n",
      "certifi-2022.12.7    | 152 KB    | #          |  11% \n",
      "certifi-2022.12.7    | 152 KB    | #########4 |  95% \n",
      "certifi-2022.12.7    | 152 KB    | ########## | 100% \n",
      "\n",
      "openssl-1.1.1s       | 5.8 MB    |            |   0% \n",
      "openssl-1.1.1s       | 5.8 MB    |            |   0% \n",
      "openssl-1.1.1s       | 5.8 MB    | 2          |   2% \n",
      "openssl-1.1.1s       | 5.8 MB    | 4          |   4% \n",
      "openssl-1.1.1s       | 5.8 MB    | 6          |   6% \n",
      "openssl-1.1.1s       | 5.8 MB    | 8          |   8% \n",
      "openssl-1.1.1s       | 5.8 MB    | #          |  10% \n",
      "openssl-1.1.1s       | 5.8 MB    | #2         |  12% \n",
      "openssl-1.1.1s       | 5.8 MB    | #4         |  14% \n",
      "openssl-1.1.1s       | 5.8 MB    | #5         |  16% \n",
      "openssl-1.1.1s       | 5.8 MB    | #8         |  18% \n",
      "openssl-1.1.1s       | 5.8 MB    | ##         |  20% \n",
      "openssl-1.1.1s       | 5.8 MB    | ##1        |  22% \n",
      "openssl-1.1.1s       | 5.8 MB    | ##3        |  24% \n",
      "openssl-1.1.1s       | 5.8 MB    | ##5        |  26% \n",
      "openssl-1.1.1s       | 5.8 MB    | ##7        |  28% \n",
      "openssl-1.1.1s       | 5.8 MB    | ##9        |  30% \n",
      "openssl-1.1.1s       | 5.8 MB    | ###1       |  32% \n",
      "openssl-1.1.1s       | 5.8 MB    | ###3       |  34% \n",
      "openssl-1.1.1s       | 5.8 MB    | ###5       |  36% \n",
      "openssl-1.1.1s       | 5.8 MB    | ###7       |  38% \n",
      "openssl-1.1.1s       | 5.8 MB    | ###9       |  40% \n",
      "openssl-1.1.1s       | 5.8 MB    | ####1      |  42% \n",
      "openssl-1.1.1s       | 5.8 MB    | ####3      |  44% \n",
      "openssl-1.1.1s       | 5.8 MB    | ####5      |  46% \n",
      "openssl-1.1.1s       | 5.8 MB    | ####7      |  48% \n",
      "openssl-1.1.1s       | 5.8 MB    | ####9      |  50% \n",
      "openssl-1.1.1s       | 5.8 MB    | #####1     |  52% \n",
      "openssl-1.1.1s       | 5.8 MB    | #####3     |  54% \n",
      "openssl-1.1.1s       | 5.8 MB    | #####5     |  56% \n",
      "openssl-1.1.1s       | 5.8 MB    | #####7     |  57% \n",
      "openssl-1.1.1s       | 5.8 MB    | #####9     |  59% \n",
      "openssl-1.1.1s       | 5.8 MB    | ######1    |  62% \n",
      "openssl-1.1.1s       | 5.8 MB    | ######3    |  63% \n",
      "openssl-1.1.1s       | 5.8 MB    | ######5    |  66% \n",
      "openssl-1.1.1s       | 5.8 MB    | ######7    |  67% \n",
      "openssl-1.1.1s       | 5.8 MB    | ######9    |  70% \n",
      "openssl-1.1.1s       | 5.8 MB    | #######1   |  72% \n",
      "openssl-1.1.1s       | 5.8 MB    | #######3   |  74% \n",
      "openssl-1.1.1s       | 5.8 MB    | #######5   |  76% \n",
      "openssl-1.1.1s       | 5.8 MB    | #######7   |  78% \n",
      "openssl-1.1.1s       | 5.8 MB    | #######9   |  79% \n",
      "openssl-1.1.1s       | 5.8 MB    | ########1  |  82% \n",
      "openssl-1.1.1s       | 5.8 MB    | ########3  |  83% \n",
      "openssl-1.1.1s       | 5.8 MB    | ########5  |  86% \n",
      "openssl-1.1.1s       | 5.8 MB    | ########7  |  88% \n",
      "openssl-1.1.1s       | 5.8 MB    | ########9  |  89% \n",
      "openssl-1.1.1s       | 5.8 MB    | #########1 |  92% \n",
      "openssl-1.1.1s       | 5.8 MB    | #########3 |  94% \n",
      "openssl-1.1.1s       | 5.8 MB    | #########5 |  95% \n",
      "openssl-1.1.1s       | 5.8 MB    | #########7 |  97% \n",
      "openssl-1.1.1s       | 5.8 MB    | #########9 |  99% \n",
      "openssl-1.1.1s       | 5.8 MB    | ########## | 100% \n",
      "\n",
      "sympy-1.11.1         | 11.8 MB   |            |   0% \n",
      "sympy-1.11.1         | 11.8 MB   |            |   0% \n",
      "sympy-1.11.1         | 11.8 MB   |            |   1% \n",
      "sympy-1.11.1         | 11.8 MB   | 1          |   2% \n",
      "sympy-1.11.1         | 11.8 MB   | 2          |   3% \n",
      "sympy-1.11.1         | 11.8 MB   | 3          |   4% \n",
      "sympy-1.11.1         | 11.8 MB   | 4          |   5% \n",
      "sympy-1.11.1         | 11.8 MB   | 5          |   6% \n",
      "sympy-1.11.1         | 11.8 MB   | 6          |   7% \n",
      "sympy-1.11.1         | 11.8 MB   | 7          |   8% \n",
      "sympy-1.11.1         | 11.8 MB   | 8          |   8% \n",
      "sympy-1.11.1         | 11.8 MB   | 9          |   9% \n",
      "sympy-1.11.1         | 11.8 MB   | #          |  10% \n",
      "sympy-1.11.1         | 11.8 MB   | #1         |  11% \n",
      "sympy-1.11.1         | 11.8 MB   | #2         |  12% \n",
      "sympy-1.11.1         | 11.8 MB   | #3         |  13% \n",
      "sympy-1.11.1         | 11.8 MB   | #4         |  14% \n",
      "sympy-1.11.1         | 11.8 MB   | #5         |  15% \n",
      "sympy-1.11.1         | 11.8 MB   | #6         |  16% \n",
      "sympy-1.11.1         | 11.8 MB   | #7         |  17% \n",
      "sympy-1.11.1         | 11.8 MB   | #8         |  18% \n",
      "sympy-1.11.1         | 11.8 MB   | #8         |  19% \n",
      "sympy-1.11.1         | 11.8 MB   | ##         |  20% \n",
      "sympy-1.11.1         | 11.8 MB   | ##         |  21% \n",
      "sympy-1.11.1         | 11.8 MB   | ##1        |  22% \n",
      "sympy-1.11.1         | 11.8 MB   | ##2        |  23% \n",
      "sympy-1.11.1         | 11.8 MB   | ##3        |  24% \n",
      "sympy-1.11.1         | 11.8 MB   | ##4        |  25% \n",
      "sympy-1.11.1         | 11.8 MB   | ##5        |  26% \n",
      "sympy-1.11.1         | 11.8 MB   | ##6        |  27% \n",
      "sympy-1.11.1         | 11.8 MB   | ##7        |  28% \n",
      "sympy-1.11.1         | 11.8 MB   | ##8        |  29% \n",
      "sympy-1.11.1         | 11.8 MB   | ##9        |  30% \n",
      "sympy-1.11.1         | 11.8 MB   | ###        |  30% \n",
      "sympy-1.11.1         | 11.8 MB   | ###1       |  32% \n",
      "sympy-1.11.1         | 11.8 MB   | ###2       |  32% \n",
      "sympy-1.11.1         | 11.8 MB   | ###3       |  33% \n",
      "sympy-1.11.1         | 11.8 MB   | ###4       |  34% \n",
      "sympy-1.11.1         | 11.8 MB   | ###5       |  35% \n",
      "sympy-1.11.1         | 11.8 MB   | ###6       |  36% \n",
      "sympy-1.11.1         | 11.8 MB   | ###7       |  37% \n",
      "sympy-1.11.1         | 11.8 MB   | ###7       |  38% \n",
      "sympy-1.11.1         | 11.8 MB   | ###8       |  39% \n",
      "sympy-1.11.1         | 11.8 MB   | ###9       |  40% \n",
      "sympy-1.11.1         | 11.8 MB   | ####       |  41% \n",
      "sympy-1.11.1         | 11.8 MB   | ####1      |  42% \n",
      "sympy-1.11.1         | 11.8 MB   | ####2      |  43% \n",
      "sympy-1.11.1         | 11.8 MB   | ####3      |  44% \n",
      "sympy-1.11.1         | 11.8 MB   | ####4      |  45% \n",
      "sympy-1.11.1         | 11.8 MB   | ####5      |  46% \n",
      "sympy-1.11.1         | 11.8 MB   | ####6      |  46% \n",
      "sympy-1.11.1         | 11.8 MB   | ####7      |  47% \n",
      "sympy-1.11.1         | 11.8 MB   | ####8      |  48% \n",
      "sympy-1.11.1         | 11.8 MB   | ####9      |  49% \n",
      "sympy-1.11.1         | 11.8 MB   | #####      |  50% \n",
      "sympy-1.11.1         | 11.8 MB   | #####1     |  51% \n",
      "sympy-1.11.1         | 11.8 MB   | #####2     |  52% \n",
      "sympy-1.11.1         | 11.8 MB   | #####3     |  53% \n",
      "sympy-1.11.1         | 11.8 MB   | #####4     |  54% \n",
      "sympy-1.11.1         | 11.8 MB   | #####5     |  55% \n",
      "sympy-1.11.1         | 11.8 MB   | #####5     |  56% \n",
      "sympy-1.11.1         | 11.8 MB   | #####6     |  57% \n",
      "sympy-1.11.1         | 11.8 MB   | #####7     |  58% \n",
      "sympy-1.11.1         | 11.8 MB   | #####8     |  59% \n",
      "sympy-1.11.1         | 11.8 MB   | #####9     |  60% \n",
      "sympy-1.11.1         | 11.8 MB   | ######     |  61% \n",
      "sympy-1.11.1         | 11.8 MB   | ######1    |  62% \n",
      "sympy-1.11.1         | 11.8 MB   | ######2    |  63% \n",
      "sympy-1.11.1         | 11.8 MB   | ######3    |  63% \n",
      "sympy-1.11.1         | 11.8 MB   | ######4    |  64% \n",
      "sympy-1.11.1         | 11.8 MB   | ######5    |  65% \n",
      "sympy-1.11.1         | 11.8 MB   | ######6    |  66% \n",
      "sympy-1.11.1         | 11.8 MB   | ######7    |  67% \n",
      "sympy-1.11.1         | 11.8 MB   | ######8    |  68% \n",
      "sympy-1.11.1         | 11.8 MB   | ######9    |  69% \n",
      "sympy-1.11.1         | 11.8 MB   | #######    |  70% \n",
      "sympy-1.11.1         | 11.8 MB   | #######1   |  71% \n",
      "sympy-1.11.1         | 11.8 MB   | #######2   |  72% \n",
      "sympy-1.11.1         | 11.8 MB   | #######3   |  73% \n",
      "sympy-1.11.1         | 11.8 MB   | #######4   |  74% \n",
      "sympy-1.11.1         | 11.8 MB   | #######5   |  75% \n",
      "sympy-1.11.1         | 11.8 MB   | #######6   |  76% \n",
      "sympy-1.11.1         | 11.8 MB   | #######7   |  77% \n",
      "sympy-1.11.1         | 11.8 MB   | #######7   |  78% \n",
      "sympy-1.11.1         | 11.8 MB   | #######9   |  79% \n",
      "sympy-1.11.1         | 11.8 MB   | ########   |  80% \n",
      "sympy-1.11.1         | 11.8 MB   | ########   |  81% \n",
      "sympy-1.11.1         | 11.8 MB   | ########1  |  82% \n",
      "sympy-1.11.1         | 11.8 MB   | ########2  |  83% \n",
      "sympy-1.11.1         | 11.8 MB   | ########3  |  84% \n",
      "sympy-1.11.1         | 11.8 MB   | ########4  |  85% \n",
      "sympy-1.11.1         | 11.8 MB   | ########5  |  86% \n",
      "sympy-1.11.1         | 11.8 MB   | ########6  |  87% \n",
      "sympy-1.11.1         | 11.8 MB   | ########7  |  88% \n",
      "sympy-1.11.1         | 11.8 MB   | ########8  |  89% \n",
      "sympy-1.11.1         | 11.8 MB   | ########9  |  89% \n",
      "sympy-1.11.1         | 11.8 MB   | #########  |  90% \n",
      "sympy-1.11.1         | 11.8 MB   | #########1 |  91% \n",
      "sympy-1.11.1         | 11.8 MB   | #########2 |  92% \n",
      "sympy-1.11.1         | 11.8 MB   | #########3 |  93% \n",
      "sympy-1.11.1         | 11.8 MB   | #########4 |  94% \n",
      "sympy-1.11.1         | 11.8 MB   | #########4 |  95% \n",
      "sympy-1.11.1         | 11.8 MB   | #########5 |  96% \n",
      "sympy-1.11.1         | 11.8 MB   | #########6 |  97% \n",
      "sympy-1.11.1         | 11.8 MB   | #########8 |  98% \n",
      "sympy-1.11.1         | 11.8 MB   | #########8 |  99% \n",
      "sympy-1.11.1         | 11.8 MB   | #########9 | 100% \n",
      "sympy-1.11.1         | 11.8 MB   | ########## | 100% \n",
      "\n",
      "mpir-3.0.0           | 3.0 MB    |            |   0% \n",
      "mpir-3.0.0           | 3.0 MB    |            |   1% \n",
      "mpir-3.0.0           | 3.0 MB    | 3          |   4% \n",
      "mpir-3.0.0           | 3.0 MB    | 7          |   7% \n",
      "mpir-3.0.0           | 3.0 MB    | #          |  11% \n",
      "mpir-3.0.0           | 3.0 MB    | #4         |  15% \n",
      "mpir-3.0.0           | 3.0 MB    | #8         |  18% \n",
      "mpir-3.0.0           | 3.0 MB    | ##1        |  22% \n",
      "mpir-3.0.0           | 3.0 MB    | ##5        |  26% \n",
      "mpir-3.0.0           | 3.0 MB    | ##9        |  29% \n",
      "mpir-3.0.0           | 3.0 MB    | ###2       |  33% \n",
      "mpir-3.0.0           | 3.0 MB    | ###6       |  36% \n",
      "mpir-3.0.0           | 3.0 MB    | ####       |  40% \n",
      "mpir-3.0.0           | 3.0 MB    | ####4      |  44% \n",
      "mpir-3.0.0           | 3.0 MB    | ####7      |  48% \n",
      "mpir-3.0.0           | 3.0 MB    | #####2     |  52% \n",
      "mpir-3.0.0           | 3.0 MB    | #####5     |  56% \n",
      "mpir-3.0.0           | 3.0 MB    | #####9     |  59% \n",
      "mpir-3.0.0           | 3.0 MB    | ######2    |  63% \n",
      "mpir-3.0.0           | 3.0 MB    | ######6    |  67% \n",
      "mpir-3.0.0           | 3.0 MB    | #######    |  70% \n",
      "mpir-3.0.0           | 3.0 MB    | #######3   |  74% \n",
      "mpir-3.0.0           | 3.0 MB    | #######8   |  78% \n",
      "mpir-3.0.0           | 3.0 MB    | ########1  |  82% \n",
      "mpir-3.0.0           | 3.0 MB    | ########5  |  85% \n",
      "mpir-3.0.0           | 3.0 MB    | ########9  |  89% \n",
      "mpir-3.0.0           | 3.0 MB    | #########2 |  93% \n",
      "mpir-3.0.0           | 3.0 MB    | #########6 |  96% \n",
      "mpir-3.0.0           | 3.0 MB    | #########9 | 100% \n",
      "mpir-3.0.0           | 3.0 MB    | ########## | 100% \n",
      "\n",
      "mpfr-4.0.2           | 1.9 MB    |            |   0% \n",
      "mpfr-4.0.2           | 1.9 MB    |            |   1% \n",
      "mpfr-4.0.2           | 1.9 MB    | 6          |   6% \n",
      "mpfr-4.0.2           | 1.9 MB    | #2         |  13% \n",
      "mpfr-4.0.2           | 1.9 MB    | #8         |  19% \n",
      "mpfr-4.0.2           | 1.9 MB    | ##4        |  24% \n",
      "mpfr-4.0.2           | 1.9 MB    | ###        |  30% \n",
      "mpfr-4.0.2           | 1.9 MB    | ###5       |  36% \n",
      "mpfr-4.0.2           | 1.9 MB    | ###9       |  40% \n",
      "mpfr-4.0.2           | 1.9 MB    | ####5      |  45% \n",
      "mpfr-4.0.2           | 1.9 MB    | #####1     |  51% \n",
      "mpfr-4.0.2           | 1.9 MB    | #####7     |  58% \n",
      "mpfr-4.0.2           | 1.9 MB    | ######3    |  63% \n",
      "mpfr-4.0.2           | 1.9 MB    | ######8    |  69% \n",
      "mpfr-4.0.2           | 1.9 MB    | #######5   |  75% \n",
      "mpfr-4.0.2           | 1.9 MB    | ########1  |  82% \n",
      "mpfr-4.0.2           | 1.9 MB    | ########7  |  88% \n",
      "mpfr-4.0.2           | 1.9 MB    | #########3 |  93% \n",
      "mpfr-4.0.2           | 1.9 MB    | #########9 | 100% \n",
      "mpfr-4.0.2           | 1.9 MB    | ########## | 100% \n",
      "\n",
      "libllvm9-9.0.1       | 62 KB     |            |   0% \n",
      "libllvm9-9.0.1       | 62 KB     | ##5        |  26% \n",
      "libllvm9-9.0.1       | 62 KB     | ########## | 100% \n",
      "libllvm9-9.0.1       | 62 KB     | ########## | 100% \n",
      "\n",
      "pathtools-0.1.2      | 10 KB     |            |   0% \n",
      "pathtools-0.1.2      | 10 KB     | ########## | 100% \n",
      "pathtools-0.1.2      | 10 KB     | ########## | 100% \n",
      "\n",
      "gmpy2-2.1.2          | 180 KB    |            |   0% \n",
      "gmpy2-2.1.2          | 180 KB    | 8          |   9% \n",
      "gmpy2-2.1.2          | 180 KB    | ######2    |  62% \n",
      "gmpy2-2.1.2          | 180 KB    | ########## | 100% \n",
      "gmpy2-2.1.2          | 180 KB    | ########## | 100% \n",
      "\n",
      "traitlets-5.7.1      | 188 KB    |            |   0% \n",
      "traitlets-5.7.1      | 188 KB    | 8          |   9% \n",
      "traitlets-5.7.1      | 188 KB    | ####2      |  43% \n",
      "traitlets-5.7.1      | 188 KB    | ########## | 100% \n",
      "traitlets-5.7.1      | 188 KB    | ########## | 100% \n",
      "\n",
      "beautifulsoup4-4.11. | 188 KB    |            |   0% \n",
      "beautifulsoup4-4.11. | 188 KB    | 8          |   8% \n",
      "beautifulsoup4-4.11. | 188 KB    | #####9     |  59% \n",
      "beautifulsoup4-4.11. | 188 KB    | ########## | 100% \n",
      "beautifulsoup4-4.11. | 188 KB    | ########## | 100% \n",
      "\n",
      "requests-2.28.1      | 100 KB    |            |   0% \n",
      "requests-2.28.1      | 100 KB    | #6         |  16% \n",
      "requests-2.28.1      | 100 KB    | ########## | 100% \n",
      "requests-2.28.1      | 100 KB    | ########## | 100% \n",
      "\n",
      "python-fastjsonschem | 263 KB    |            |   0% \n",
      "python-fastjsonschem | 263 KB    | 6          |   6% \n",
      "python-fastjsonschem | 263 KB    | ####2      |  43% \n",
      "python-fastjsonschem | 263 KB    | ########5  |  85% \n",
      "python-fastjsonschem | 263 KB    | ########## | 100% \n",
      "\n",
      "pandas-1.4.4         | 11.0 MB   |            |   0% \n",
      "pandas-1.4.4         | 11.0 MB   |            |   0% \n",
      "pandas-1.4.4         | 11.0 MB   | 1          |   1% \n",
      "pandas-1.4.4         | 11.0 MB   | 2          |   2% \n",
      "pandas-1.4.4         | 11.0 MB   | 3          |   3% \n",
      "pandas-1.4.4         | 11.0 MB   | 4          |   5% \n",
      "pandas-1.4.4         | 11.0 MB   | 5          |   6% \n",
      "pandas-1.4.4         | 11.0 MB   | 6          |   7% \n",
      "pandas-1.4.4         | 11.0 MB   | 7          |   7% \n",
      "pandas-1.4.4         | 11.0 MB   | 8          |   8% \n",
      "pandas-1.4.4         | 11.0 MB   | 9          |   9% \n",
      "pandas-1.4.4         | 11.0 MB   | #          |  10% \n"
     ]
    },
    {
     "name": "stderr",
     "output_type": "stream",
     "text": [
      "\n",
      "  - defaults/win-64::conda==4.12.0=py38haa95532_0\n",
      "  - defaults/win-64::conda-build==3.21.4=py38haa95532_0\n",
      "  - defaults/noarch::conda-repo-cli==1.0.4=pyhd3eb1b0_0\n",
      "  - defaults/noarch::conda-token==0.3.0=pyhd3eb1b0_0\n",
      "  - defaults/noarch::dask==2021.4.0=pyhd3eb1b0_0\n",
      "  - defaults/win-64::h5py==2.10.0=py38h5e291fa_0\n",
      "  - defaults/win-64::imagecodecs==2021.3.31=py38h5da4933_0\n",
      "  - defaults/noarch::imageio==2.9.0=pyhd3eb1b0_0\n",
      "  - defaults/win-64::ipykernel==5.3.4=py38h5ca1d4c_0\n",
      "  - defaults/win-64::ipython==7.22.0=py38hd4e2768_0\n",
      "  - defaults/win-64::jupyter==1.0.0=py38_7\n",
      "  - defaults/noarch::jupyterlab==3.0.14=pyhd3eb1b0_1\n",
      "  - defaults/noarch::jupyterlab_server==2.4.0=pyhd3eb1b0_0\n",
      "  - defaults/noarch::jupyter_client==6.1.12=pyhd3eb1b0_0\n",
      "  - defaults/noarch::jupyter_console==6.4.0=pyhd3eb1b0_0\n",
      "  - defaults/win-64::jupyter_core==4.7.1=py38haa95532_0\n",
      "  - defaults/win-64::jupyter_server==1.4.1=py38haa95532_0\n",
      "  - defaults/win-64::matplotlib==3.3.4=py38haa95532_0\n",
      "  - defaults/win-64::matplotlib-base==3.3.4=py38h49ac443_0\n",
      "  - defaults/win-64::mkl_fft==1.3.0=py38h277e83a_2\n",
      "  - defaults/win-64::mkl_random==1.2.1=py38hf11a4ad_2\n",
      "  - defaults/noarch::nbclassic==0.2.6=pyhd3eb1b0_0\n",
      "  - defaults/noarch::nbclient==0.5.3=pyhd3eb1b0_0\n",
      "  - defaults/win-64::nbconvert==6.0.7=py38_0\n",
      "  - defaults/noarch::nltk==3.6.1=pyhd3eb1b0_0\n",
      "  - defaults/win-64::notebook==6.3.0=py38haa95532_0\n",
      "  - defaults/win-64::numba==0.53.1=py38hf11a4ad_0\n",
      "  - defaults/win-64::numexpr==2.7.3=py38hb80d3ca_1\n",
      "  - defaults/win-64::numpy==1.20.1=py38h34a8a5c_0\n",
      "  - defaults/noarch::numpydoc==1.1.0=pyhd3eb1b0_1\n",
      "  - defaults/win-64::patsy==0.5.1=py38_0\n",
      "  - defaults/win-64::pyerfa==1.7.3=py38h2bbff1b_0\n",
      "  - defaults/win-64::pytables==3.6.1=py38ha5be198_0\n",
      "  - defaults/win-64::pywavelets==1.1.1=py38he774522_2\n",
      "  - defaults/noarch::qtconsole==5.0.3=pyhd3eb1b0_0\n",
      "  - defaults/win-64::scikit-image==0.18.1=py38hf11a4ad_0\n",
      "  - defaults/win-64::scipy==1.6.2=py38h66253e8_1\n",
      "  - defaults/noarch::seaborn==0.11.1=pyhd3eb1b0_0\n",
      "  - defaults/noarch::soupsieve==2.2.1=pyhd3eb1b0_0\n",
      "  - defaults/noarch::sphinx==4.0.1=pyhd3eb1b0_0\n",
      "  - defaults/win-64::spyder==4.2.5=py38haa95532_0\n",
      "  - defaults/win-64::spyder-kernels==1.10.2=py38haa95532_0\n",
      "  - defaults/win-64::statsmodels==0.12.2=py38h2bbff1b_0\n",
      "  - defaults/noarch::tifffile==2021.4.8=pyhd3eb1b0_2\n",
      "  - defaults/win-64::_ipyw_jlab_nb_ext_conf==0.1.0=py38_0\n",
      "\n",
      "\n",
      "==> WARNING: A newer version of conda exists. <==\n",
      "  current version: 4.12.0\n",
      "  latest version: 23.5.2\n",
      "\n",
      "Please update conda by running\n",
      "\n",
      "    $ conda update -n base -c defaults conda\n",
      "\n",
      "\n",
      "\n",
      "The environment is inconsistent, please check the package plan carefully\n",
      "The following packages are causing the inconsistency:\n",
      "\n",
      "  - defaults/win-64::anaconda==2021.05=py38_0\n",
      "  - defaults/win-64::anaconda-client==1.7.2=py38_0\n",
      "  - defaults/win-64::anaconda-navigator==2.1.4=py38haa95532_0\n",
      "  - defaults/noarch::anaconda-project==0.9.1=pyhd3eb1b0_1\n",
      "  - defaults/win-64::astropy==4.2.1=py38h2bbff1b_1\n",
      "  - defaults/noarch::babel==2.9.0=pyhd3eb1b0_0\n",
      "  - defaults/win-64::bkcharts==0.2=py38_0\n",
      "  - defaults/win-64::bokeh==2.3.2=py38haa95532_0\n",
      "  - defaults/win-64::bottleneck==1.3.2=py38h2a96729_1\n",
      "  - defaults/win-64::conda==4.12.0=py38haa95532_0\n",
      "  - defaults/win-64::conda-build==3.21.4=py38haa95532_0\n",
      "  - defaults/noarch::conda-repo-cli==1.0.4=pyhd3eb1b0_0\n",
      "  - defaults/noarch::conda-token==0.3.0=pyhd3eb1b0_0\n",
      "  - defaults/noarch::dask==2021.4.0=pyhd3eb1b0_0\n",
      "  - defaults/win-64::h5py==2.10.0=py38h5e291fa_0\n",
      "  - defaults/win-64::imagecodecs==2021.3.31=py38h5da4933_0\n",
      "  - defaults/noarch::imageio==2.9.0=pyhd3eb1b0_0\n",
      "  - defaults/win-64::ipykernel==5.3.4=py38h5ca1d4c_0\n",
      "  - defaults/win-64::ipython==7.22.0=py38hd4e2768_0\n",
      "  - defaults/win-64::jupyter==1.0.0=py38_7\n",
      "  - defaults/noarch::jupyterlab==3.0.14=pyhd3eb1b0_1\n",
      "  - defaults/noarch::jupyterlab_server==2.4.0=pyhd3eb1b0_0\n",
      "  - defaults/noarch::jupyter_client==6.1.12=pyhd3eb1b0_0\n",
      "  - defaults/noarch::jupyter_console==6.4.0=pyhd3eb1b0_0\n",
      "  - defaults/win-64::jupyter_core==4.7.1=py38haa95532_0\n",
      "  - defaults/win-64::jupyter_server==1.4.1=py38haa95532_0\n",
      "  - defaults/win-64::matplotlib==3.3.4=py38haa95532_0\n",
      "  - defaults/win-64::matplotlib-base==3.3.4=py38h49ac443_0\n",
      "  - defaults/win-64::mkl_fft==1.3.0=py38h277e83a_2\n",
      "  - defaults/win-64::mkl_random==1.2.1=py38hf11a4ad_2\n",
      "  - defaults/noarch::nbclassic==0.2.6=pyhd3eb1b0_0\n",
      "  - defaults/noarch::nbclient==0.5.3=pyhd3eb1b0_0\n",
      "  - defaults/win-64::nbconvert==6.0.7=py38_0\n",
      "  - defaults/noarch::nltk==3.6.1=pyhd3eb1b0_0\n",
      "  - defaults/win-64::notebook==6.3.0=py38haa95532_0\n",
      "  - defaults/win-64::numba==0.53.1=py38hf11a4ad_0\n",
      "  - defaults/win-64::numexpr==2.7.3=py38hb80d3ca_1\n",
      "  - defaults/win-64::numpy==1.20.1=py38h34a8a5c_0\n",
      "  - defaults/noarch::numpydoc==1.1.0=pyhd3eb1b0_1\n",
      "  - defaults/win-64::patsy==0.5.1=py38_0\n",
      "  - defaults/win-64::pyerfa==1.7.3=py38h2bbff1b_0\n",
      "  - defaults/win-64::pytables==3.6.1=py38ha5be198_0\n",
      "  - defaults/win-64::pywavelets==1.1.1=py38he774522_2\n",
      "  - defaults/noarch::qtconsole==5.0.3=pyhd3eb1b0_0\n",
      "  - defaults/win-64::scikit-image==0.18.1=py38hf11a4ad_0\n",
      "  - defaults/win-64::scipy==1.6.2=py38h66253e8_1\n",
      "  - defaults/noarch::seaborn==0.11.1=pyhd3eb1b0_0\n",
      "  - defaults/noarch::soupsieve==2.2.1=pyhd3eb1b0_0\n",
      "  - defaults/noarch::sphinx==4.0.1=pyhd3eb1b0_0\n",
      "  - defaults/win-64::spyder==4.2.5=py38haa95532_0\n",
      "  - defaults/win-64::spyder-kernels==1.10.2=py38haa95532_0\n",
      "  - defaults/win-64::statsmodels==0.12.2=py38h2bbff1b_0\n",
      "  - defaults/noarch::tifffile==2021.4.8=pyhd3eb1b0_2\n",
      "  - defaults/win-64::_ipyw_jlab_nb_ext_conf==0.1.0=py38_0\n",
      "\n",
      "\n",
      "==> WARNING: A newer version of conda exists. <==\n",
      "  current version: 4.12.0\n",
      "  latest version: 23.5.2\n",
      "\n",
      "Please update conda by running\n",
      "\n",
      "    $ conda update -n base -c defaults conda\n",
      "\n",
      "\n",
      "\n",
      "RemoveError: 'requests' is a dependency of conda and cannot be removed from\n",
      "conda's operating environment.\n",
      "\n"
     ]
    },
    {
     "name": "stdout",
     "output_type": "stream",
     "text": [
      "pandas-1.4.4         | 11.0 MB   | #1         |  11% \n",
      "pandas-1.4.4         | 11.0 MB   | #2         |  12% \n",
      "pandas-1.4.4         | 11.0 MB   | #3         |  13% \n",
      "pandas-1.4.4         | 11.0 MB   | #4         |  14% \n",
      "pandas-1.4.4         | 11.0 MB   | #5         |  15% \n",
      "pandas-1.4.4         | 11.0 MB   | #6         |  16% \n",
      "pandas-1.4.4         | 11.0 MB   | #7         |  17% \n",
      "pandas-1.4.4         | 11.0 MB   | #8         |  18% \n",
      "pandas-1.4.4         | 11.0 MB   | #9         |  20% \n",
      "pandas-1.4.4         | 11.0 MB   | ##         |  21% \n",
      "pandas-1.4.4         | 11.0 MB   | ##1        |  21% \n",
      "pandas-1.4.4         | 11.0 MB   | ##2        |  22% \n",
      "pandas-1.4.4         | 11.0 MB   | ##3        |  23% \n",
      "pandas-1.4.4         | 11.0 MB   | ##4        |  25% \n",
      "pandas-1.4.4         | 11.0 MB   | ##5        |  26% \n",
      "pandas-1.4.4         | 11.0 MB   | ##6        |  27% \n",
      "pandas-1.4.4         | 11.0 MB   | ##7        |  28% \n",
      "pandas-1.4.4         | 11.0 MB   | ##8        |  29% \n",
      "pandas-1.4.4         | 11.0 MB   | ##9        |  30% \n",
      "pandas-1.4.4         | 11.0 MB   | ###        |  31% \n",
      "pandas-1.4.4         | 11.0 MB   | ###1       |  32% \n",
      "pandas-1.4.4         | 11.0 MB   | ###2       |  33% \n",
      "pandas-1.4.4         | 11.0 MB   | ###3       |  34% \n",
      "pandas-1.4.4         | 11.0 MB   | ###4       |  35% \n",
      "pandas-1.4.4         | 11.0 MB   | ###5       |  36% \n",
      "pandas-1.4.4         | 11.0 MB   | ###6       |  37% \n",
      "pandas-1.4.4         | 11.0 MB   | ###7       |  38% \n",
      "pandas-1.4.4         | 11.0 MB   | ###8       |  39% \n",
      "pandas-1.4.4         | 11.0 MB   | ###9       |  40% \n",
      "pandas-1.4.4         | 11.0 MB   | ####       |  41% \n",
      "pandas-1.4.4         | 11.0 MB   | ####1      |  42% \n",
      "pandas-1.4.4         | 11.0 MB   | ####2      |  43% \n",
      "pandas-1.4.4         | 11.0 MB   | ####3      |  44% \n",
      "pandas-1.4.4         | 11.0 MB   | ####4      |  45% \n",
      "pandas-1.4.4         | 11.0 MB   | ####5      |  46% \n",
      "pandas-1.4.4         | 11.0 MB   | ####6      |  47% \n",
      "pandas-1.4.4         | 11.0 MB   | ####7      |  48% \n",
      "pandas-1.4.4         | 11.0 MB   | ####8      |  49% \n",
      "pandas-1.4.4         | 11.0 MB   | ####9      |  50% \n",
      "pandas-1.4.4         | 11.0 MB   | #####      |  51% \n",
      "pandas-1.4.4         | 11.0 MB   | #####1     |  52% \n",
      "pandas-1.4.4         | 11.0 MB   | #####2     |  53% \n",
      "pandas-1.4.4         | 11.0 MB   | #####3     |  54% \n",
      "pandas-1.4.4         | 11.0 MB   | #####4     |  55% \n",
      "pandas-1.4.4         | 11.0 MB   | #####5     |  56% \n",
      "pandas-1.4.4         | 11.0 MB   | #####6     |  57% \n",
      "pandas-1.4.4         | 11.0 MB   | #####7     |  58% \n",
      "pandas-1.4.4         | 11.0 MB   | #####8     |  59% \n",
      "pandas-1.4.4         | 11.0 MB   | #####9     |  60% \n",
      "pandas-1.4.4         | 11.0 MB   | ######     |  61% \n",
      "pandas-1.4.4         | 11.0 MB   | ######1    |  62% \n",
      "pandas-1.4.4         | 11.0 MB   | ######2    |  63% \n",
      "pandas-1.4.4         | 11.0 MB   | ######3    |  64% \n",
      "pandas-1.4.4         | 11.0 MB   | ######4    |  65% \n",
      "pandas-1.4.4         | 11.0 MB   | ######5    |  66% \n",
      "pandas-1.4.4         | 11.0 MB   | ######7    |  67% \n",
      "pandas-1.4.4         | 11.0 MB   | ######8    |  68% \n",
      "pandas-1.4.4         | 11.0 MB   | ######9    |  69% \n",
      "pandas-1.4.4         | 11.0 MB   | #######    |  70% \n",
      "pandas-1.4.4         | 11.0 MB   | #######1   |  71% \n",
      "pandas-1.4.4         | 11.0 MB   | #######2   |  72% \n",
      "pandas-1.4.4         | 11.0 MB   | #######3   |  73% \n",
      "pandas-1.4.4         | 11.0 MB   | #######4   |  74% \n",
      "pandas-1.4.4         | 11.0 MB   | #######5   |  76% \n",
      "pandas-1.4.4         | 11.0 MB   | #######6   |  77% \n",
      "pandas-1.4.4         | 11.0 MB   | #######7   |  78% \n",
      "pandas-1.4.4         | 11.0 MB   | #######8   |  78% \n",
      "pandas-1.4.4         | 11.0 MB   | #######9   |  80% \n",
      "pandas-1.4.4         | 11.0 MB   | ########   |  81% \n",
      "pandas-1.4.4         | 11.0 MB   | ########1  |  82% \n",
      "pandas-1.4.4         | 11.0 MB   | ########2  |  83% \n",
      "pandas-1.4.4         | 11.0 MB   | ########3  |  84% \n",
      "pandas-1.4.4         | 11.0 MB   | ########4  |  85% \n",
      "pandas-1.4.4         | 11.0 MB   | ########5  |  86% \n",
      "pandas-1.4.4         | 11.0 MB   | ########6  |  87% \n",
      "pandas-1.4.4         | 11.0 MB   | ########7  |  88% \n",
      "pandas-1.4.4         | 11.0 MB   | ########8  |  89% \n",
      "pandas-1.4.4         | 11.0 MB   | ########9  |  90% \n",
      "pandas-1.4.4         | 11.0 MB   | #########  |  91% \n",
      "pandas-1.4.4         | 11.0 MB   | #########1 |  92% \n",
      "pandas-1.4.4         | 11.0 MB   | #########2 |  93% \n",
      "pandas-1.4.4         | 11.0 MB   | #########4 |  94% \n",
      "pandas-1.4.4         | 11.0 MB   | #########5 |  95% \n",
      "pandas-1.4.4         | 11.0 MB   | #########6 |  96% \n",
      "pandas-1.4.4         | 11.0 MB   | #########7 |  97% \n",
      "pandas-1.4.4         | 11.0 MB   | #########8 |  98% \n",
      "pandas-1.4.4         | 11.0 MB   | #########9 |  99% \n",
      "pandas-1.4.4         | 11.0 MB   | ########## | 100% \n",
      "\n",
      "numpy-base-1.20.1    | 5.3 MB    |            |   0% \n",
      "numpy-base-1.20.1    | 5.3 MB    |            |   0% \n",
      "numpy-base-1.20.1    | 5.3 MB    | 2          |   2% \n",
      "numpy-base-1.20.1    | 5.3 MB    | 4          |   4% \n",
      "numpy-base-1.20.1    | 5.3 MB    | 6          |   6% \n",
      "numpy-base-1.20.1    | 5.3 MB    | 8          |   9% \n",
      "numpy-base-1.20.1    | 5.3 MB    | #          |  11% \n",
      "numpy-base-1.20.1    | 5.3 MB    | #2         |  13% \n",
      "numpy-base-1.20.1    | 5.3 MB    | #4         |  15% \n",
      "numpy-base-1.20.1    | 5.3 MB    | #7         |  17% \n",
      "numpy-base-1.20.1    | 5.3 MB    | #9         |  19% \n",
      "numpy-base-1.20.1    | 5.3 MB    | ##1        |  21% \n",
      "numpy-base-1.20.1    | 5.3 MB    | ##3        |  23% \n",
      "numpy-base-1.20.1    | 5.3 MB    | ##5        |  26% \n",
      "numpy-base-1.20.1    | 5.3 MB    | ##8        |  28% \n",
      "numpy-base-1.20.1    | 5.3 MB    | ###        |  30% \n",
      "numpy-base-1.20.1    | 5.3 MB    | ###2       |  33% \n",
      "numpy-base-1.20.1    | 5.3 MB    | ###4       |  35% \n",
      "numpy-base-1.20.1    | 5.3 MB    | ###7       |  37% \n",
      "numpy-base-1.20.1    | 5.3 MB    | ###9       |  39% \n",
      "numpy-base-1.20.1    | 5.3 MB    | ####1      |  41% \n",
      "numpy-base-1.20.1    | 5.3 MB    | ####3      |  44% \n",
      "numpy-base-1.20.1    | 5.3 MB    | ####5      |  46% \n",
      "numpy-base-1.20.1    | 5.3 MB    | ####7      |  48% \n",
      "numpy-base-1.20.1    | 5.3 MB    | ####9      |  50% \n",
      "numpy-base-1.20.1    | 5.3 MB    | #####1     |  52% \n",
      "numpy-base-1.20.1    | 5.3 MB    | #####4     |  54% \n",
      "numpy-base-1.20.1    | 5.3 MB    | #####6     |  56% \n",
      "numpy-base-1.20.1    | 5.3 MB    | #####8     |  58% \n",
      "numpy-base-1.20.1    | 5.3 MB    | ######     |  61% \n",
      "numpy-base-1.20.1    | 5.3 MB    | ######2    |  63% \n",
      "numpy-base-1.20.1    | 5.3 MB    | ######4    |  65% \n",
      "numpy-base-1.20.1    | 5.3 MB    | ######7    |  67% \n",
      "numpy-base-1.20.1    | 5.3 MB    | ######9    |  69% \n",
      "numpy-base-1.20.1    | 5.3 MB    | #######1   |  72% \n",
      "numpy-base-1.20.1    | 5.3 MB    | #######4   |  74% \n",
      "numpy-base-1.20.1    | 5.3 MB    | #######6   |  76% \n",
      "numpy-base-1.20.1    | 5.3 MB    | #######8   |  78% \n",
      "numpy-base-1.20.1    | 5.3 MB    | ########   |  80% \n",
      "numpy-base-1.20.1    | 5.3 MB    | ########2  |  83% \n",
      "numpy-base-1.20.1    | 5.3 MB    | ########4  |  85% \n",
      "numpy-base-1.20.1    | 5.3 MB    | ########6  |  87% \n",
      "numpy-base-1.20.1    | 5.3 MB    | ########8  |  89% \n",
      "numpy-base-1.20.1    | 5.3 MB    | #########1 |  91% \n",
      "numpy-base-1.20.1    | 5.3 MB    | #########3 |  93% \n",
      "numpy-base-1.20.1    | 5.3 MB    | #########5 |  96% \n",
      "numpy-base-1.20.1    | 5.3 MB    | #########7 |  98% \n",
      "numpy-base-1.20.1    | 5.3 MB    | #########9 | 100% \n",
      "numpy-base-1.20.1    | 5.3 MB    | ########## | 100% \n",
      "\n",
      "lxml-4.6.3           | 1.1 MB    |            |   0% \n",
      "lxml-4.6.3           | 1.1 MB    | 1          |   1% \n",
      "lxml-4.6.3           | 1.1 MB    | #1         |  11% \n",
      "lxml-4.6.3           | 1.1 MB    | ##         |  21% \n",
      "lxml-4.6.3           | 1.1 MB    | ###        |  30% \n",
      "lxml-4.6.3           | 1.1 MB    | ####       |  40% \n",
      "lxml-4.6.3           | 1.1 MB    | ####9      |  50% \n",
      "lxml-4.6.3           | 1.1 MB    | #####9     |  60% \n",
      "lxml-4.6.3           | 1.1 MB    | ######9    |  69% \n",
      "lxml-4.6.3           | 1.1 MB    | ########   |  80% \n",
      "lxml-4.6.3           | 1.1 MB    | #########1 |  91% \n",
      "lxml-4.6.3           | 1.1 MB    | ########## | 100% \n",
      "\n",
      "scikit-learn-1.2.0   | 7.7 MB    |            |   0% \n",
      "scikit-learn-1.2.0   | 7.7 MB    |            |   0% \n",
      "scikit-learn-1.2.0   | 7.7 MB    | 1          |   2% \n",
      "scikit-learn-1.2.0   | 7.7 MB    | 3          |   3% \n",
      "scikit-learn-1.2.0   | 7.7 MB    | 4          |   4% \n",
      "scikit-learn-1.2.0   | 7.7 MB    | 5          |   6% \n",
      "scikit-learn-1.2.0   | 7.7 MB    | 7          |   7% \n",
      "scikit-learn-1.2.0   | 7.7 MB    | 8          |   9% \n",
      "scikit-learn-1.2.0   | 7.7 MB    | #          |  10% \n",
      "scikit-learn-1.2.0   | 7.7 MB    | #1         |  12% \n",
      "scikit-learn-1.2.0   | 7.7 MB    | #2         |  13% \n",
      "scikit-learn-1.2.0   | 7.7 MB    | #4         |  14% \n",
      "scikit-learn-1.2.0   | 7.7 MB    | #6         |  16% \n",
      "scikit-learn-1.2.0   | 7.7 MB    | #7         |  18% \n",
      "scikit-learn-1.2.0   | 7.7 MB    | #9         |  19% \n",
      "scikit-learn-1.2.0   | 7.7 MB    | ##         |  20% \n",
      "scikit-learn-1.2.0   | 7.7 MB    | ##2        |  22% \n",
      "scikit-learn-1.2.0   | 7.7 MB    | ##3        |  24% \n",
      "scikit-learn-1.2.0   | 7.7 MB    | ##4        |  25% \n",
      "scikit-learn-1.2.0   | 7.7 MB    | ##6        |  27% \n",
      "scikit-learn-1.2.0   | 7.7 MB    | ##7        |  28% \n",
      "scikit-learn-1.2.0   | 7.7 MB    | ##9        |  29% \n",
      "scikit-learn-1.2.0   | 7.7 MB    | ###1       |  31% \n",
      "scikit-learn-1.2.0   | 7.7 MB    | ###2       |  33% \n",
      "scikit-learn-1.2.0   | 7.7 MB    | ###4       |  34% \n",
      "scikit-learn-1.2.0   | 7.7 MB    | ###5       |  35% \n",
      "scikit-learn-1.2.0   | 7.7 MB    | ###6       |  37% \n",
      "scikit-learn-1.2.0   | 7.7 MB    | ###8       |  39% \n",
      "scikit-learn-1.2.0   | 7.7 MB    | ###9       |  40% \n",
      "scikit-learn-1.2.0   | 7.7 MB    | ####1      |  41% \n",
      "scikit-learn-1.2.0   | 7.7 MB    | ####2      |  43% \n",
      "scikit-learn-1.2.0   | 7.7 MB    | ####4      |  44% \n",
      "scikit-learn-1.2.0   | 7.7 MB    | ####5      |  46% \n",
      "scikit-learn-1.2.0   | 7.7 MB    | ####7      |  47% \n",
      "scikit-learn-1.2.0   | 7.7 MB    | ####8      |  49% \n",
      "scikit-learn-1.2.0   | 7.7 MB    | #####      |  50% \n",
      "scikit-learn-1.2.0   | 7.7 MB    | #####1     |  52% \n",
      "scikit-learn-1.2.0   | 7.7 MB    | #####3     |  53% \n",
      "scikit-learn-1.2.0   | 7.7 MB    | #####4     |  55% \n",
      "scikit-learn-1.2.0   | 7.7 MB    | #####6     |  56% \n",
      "scikit-learn-1.2.0   | 7.7 MB    | #####7     |  58% \n",
      "scikit-learn-1.2.0   | 7.7 MB    | #####9     |  59% \n",
      "scikit-learn-1.2.0   | 7.7 MB    | ######     |  61% \n",
      "scikit-learn-1.2.0   | 7.7 MB    | ######2    |  62% \n",
      "scikit-learn-1.2.0   | 7.7 MB    | ######3    |  64% \n",
      "scikit-learn-1.2.0   | 7.7 MB    | ######5    |  65% \n",
      "scikit-learn-1.2.0   | 7.7 MB    | ######6    |  67% \n",
      "scikit-learn-1.2.0   | 7.7 MB    | ######8    |  68% \n",
      "scikit-learn-1.2.0   | 7.7 MB    | ######9    |  70% \n",
      "scikit-learn-1.2.0   | 7.7 MB    | #######    |  71% \n",
      "scikit-learn-1.2.0   | 7.7 MB    | #######2   |  72% \n",
      "scikit-learn-1.2.0   | 7.7 MB    | #######3   |  74% \n",
      "scikit-learn-1.2.0   | 7.7 MB    | #######5   |  75% \n",
      "scikit-learn-1.2.0   | 7.7 MB    | #######6   |  77% \n",
      "scikit-learn-1.2.0   | 7.7 MB    | #######8   |  78% \n",
      "scikit-learn-1.2.0   | 7.7 MB    | #######9   |  80% \n",
      "scikit-learn-1.2.0   | 7.7 MB    | ########1  |  82% \n",
      "scikit-learn-1.2.0   | 7.7 MB    | ########2  |  83% \n",
      "scikit-learn-1.2.0   | 7.7 MB    | ########4  |  84% \n",
      "scikit-learn-1.2.0   | 7.7 MB    | ########5  |  86% \n",
      "scikit-learn-1.2.0   | 7.7 MB    | ########7  |  87% \n",
      "scikit-learn-1.2.0   | 7.7 MB    | ########8  |  89% \n",
      "scikit-learn-1.2.0   | 7.7 MB    | #########  |  90% \n",
      "scikit-learn-1.2.0   | 7.7 MB    | #########1 |  92% \n",
      "scikit-learn-1.2.0   | 7.7 MB    | #########3 |  93% \n",
      "scikit-learn-1.2.0   | 7.7 MB    | #########4 |  95% \n",
      "scikit-learn-1.2.0   | 7.7 MB    | #########6 |  96% \n",
      "scikit-learn-1.2.0   | 7.7 MB    | #########7 |  98% \n",
      "scikit-learn-1.2.0   | 7.7 MB    | #########8 |  99% \n",
      "scikit-learn-1.2.0   | 7.7 MB    | ########## | 100% \n",
      "\n",
      "anaconda-custom      | 32 KB     |            |   0% \n",
      "anaconda-custom      | 32 KB     | ####9      |  50% \n",
      "anaconda-custom      | 32 KB     | ########## | 100% \n",
      "anaconda-custom      | 32 KB     | ########## | 100% \n",
      "\n",
      "charset-normalizer-2 | 33 KB     |            |   0% \n",
      "charset-normalizer-2 | 33 KB     | ####8      |  48% \n",
      "charset-normalizer-2 | 33 KB     | ########## | 100% \n",
      "charset-normalizer-2 | 33 KB     | ########## | 100% \n",
      "\n",
      "pytz-2022.7          | 245 KB    |            |   0% \n",
      "pytz-2022.7          | 245 KB    | 6          |   7% \n",
      "pytz-2022.7          | 245 KB    | #####2     |  52% \n",
      "pytz-2022.7          | 245 KB    | ########## | 100% \n",
      "pytz-2022.7          | 245 KB    | ########## | 100% \n",
      "\n",
      "_anaconda_depends-20 | 5 KB      |            |   0% \n",
      "_anaconda_depends-20 | 5 KB      | ########## | 100% \n",
      "_anaconda_depends-20 | 5 KB      | ########## | 100% \n",
      "\n",
      "ipywidgets-7.6.5     | 109 KB    |            |   0% \n",
      "ipywidgets-7.6.5     | 109 KB    | #4         |  15% \n",
      "ipywidgets-7.6.5     | 109 KB    | ########## | 100% \n",
      "ipywidgets-7.6.5     | 109 KB    | ########## | 100% \n",
      "\n",
      "joblib-1.1.1         | 409 KB    |            |   0% \n",
      "joblib-1.1.1         | 409 KB    | 3          |   4% \n",
      "joblib-1.1.1         | 409 KB    | ###1       |  31% \n",
      "joblib-1.1.1         | 409 KB    | #####8     |  59% \n",
      "joblib-1.1.1         | 409 KB    | ########6  |  86% \n",
      "joblib-1.1.1         | 409 KB    | ########## | 100% \n",
      "\n",
      "ca-certificates-2023 | 158 KB    |            |   0% \n",
      "ca-certificates-2023 | 158 KB    | #          |  10% \n",
      "ca-certificates-2023 | 158 KB    | ########1  |  81% \n",
      "ca-certificates-2023 | 158 KB    | ########## | 100% \n",
      "Preparing transaction: ...working... done\n",
      "Verifying transaction: ...working... failed\n"
     ]
    }
   ],
   "source": [
    "!conda install -c anaconda sympy -y"
   ]
  },
  {
   "cell_type": "markdown",
   "metadata": {},
   "source": [
    "### Importing required libraries\n"
   ]
  },
  {
   "cell_type": "code",
   "execution_count": 2,
   "metadata": {},
   "outputs": [],
   "source": [
    "# Surpress warnings from using older version of sklearn:\n",
    "def warn(*args, **kwargs):\n",
    "    pass\n",
    "import warnings\n",
    "warnings.warn = warn\n",
    "\n",
    "import numpy as np \n",
    "import matplotlib.pylab as plt\n",
    "\n",
    "from sklearn.decomposition import PCA\n",
    "from sympy import Matrix, init_printing,Symbol\n",
    "from numpy.linalg import qr,eig,inv,matrix_rank,inv, norm\n",
    "from scipy.linalg import null_space\n",
    "init_printing()"
   ]
  },
  {
   "cell_type": "markdown",
   "metadata": {},
   "source": [
    "### Defining Helper Functions\n",
    "\n",
    "*Use this section to define any helper functions to help the notebook's code readability:*\n"
   ]
  },
  {
   "cell_type": "code",
   "execution_count": 3,
   "metadata": {},
   "outputs": [],
   "source": [
    "def plot_2d(dict_):\n",
    "    for key, value in dict_.items():\n",
    "        if value.shape[0]>2:\n",
    "            plt.scatter(value[:, 0], value[:, 1],label=key)\n",
    "        else:\n",
    "            print(value)\n",
    "            plt.quiver([0],[0],value[:,0],value[:,1],label=key)\n",
    "\n",
    "    plt.legend()\n",
    "    plt.show()"
   ]
  },
  {
   "cell_type": "markdown",
   "metadata": {
    "tags": []
   },
   "source": [
    "## Basics of Matrices\n"
   ]
  },
  {
   "cell_type": "markdown",
   "metadata": {},
   "source": [
    "### What's a Matrix\n"
   ]
  },
  {
   "cell_type": "markdown",
   "metadata": {},
   "source": [
    "Numpy treats matrix objects as numpy arrays, so we will use Numpy to create matrices. Let's consider the square matrix A.\n"
   ]
  },
  {
   "cell_type": "markdown",
   "metadata": {},
   "source": [
    "**NOTE**: We use the function `Matrix` to print out the Matrix , each column of matrix has two columns: Matrix $\\mathbf{A}=[\\mathbf{a}*{1},\\mathbf{a}*{2}]$\n"
   ]
  },
  {
   "cell_type": "code",
   "execution_count": 4,
   "metadata": {},
   "outputs": [
    {
     "data": {
      "text/latex": [
       "$\\displaystyle \\left[\\begin{matrix}2 & -3\\\\4 & 7\\end{matrix}\\right]$"
      ],
      "text/plain": [
       "⎡2  -3⎤\n",
       "⎢     ⎥\n",
       "⎣4  7 ⎦"
      ]
     },
     "execution_count": 4,
     "metadata": {},
     "output_type": "execute_result"
    }
   ],
   "source": [
    "A=np.array([[2,-3],[4,7]])\n",
    "\n",
    "Matrix(A)"
   ]
  },
  {
   "cell_type": "code",
   "execution_count": 5,
   "metadata": {},
   "outputs": [
    {
     "data": {
      "text/plain": [
       "array([2, 4])"
      ]
     },
     "execution_count": 5,
     "metadata": {},
     "output_type": "execute_result"
    }
   ],
   "source": [
    "a1=A[:,0]\n",
    "a1"
   ]
  },
  {
   "cell_type": "code",
   "execution_count": 6,
   "metadata": {},
   "outputs": [
    {
     "data": {
      "text/plain": [
       "array([-3,  7])"
      ]
     },
     "execution_count": 6,
     "metadata": {},
     "output_type": "execute_result"
    }
   ],
   "source": [
    "a2=A[:,1]\n",
    "a2"
   ]
  },
  {
   "cell_type": "markdown",
   "metadata": {},
   "source": [
    "Denoted by $A^{T}$, the transpose of a matrix  switches the row and column indices of the matrix, in numpy we can determine the transpose of $A$ as follows:\n"
   ]
  },
  {
   "cell_type": "code",
   "execution_count": 7,
   "metadata": {},
   "outputs": [
    {
     "data": {
      "text/latex": [
       "$\\displaystyle \\left[\\begin{matrix}2 & 4\\\\-3 & 7\\end{matrix}\\right]$"
      ],
      "text/plain": [
       "⎡2   4⎤\n",
       "⎢     ⎥\n",
       "⎣-3  7⎦"
      ]
     },
     "execution_count": 7,
     "metadata": {},
     "output_type": "execute_result"
    }
   ],
   "source": [
    "AT=A.T\n",
    "Matrix(AT)"
   ]
  },
  {
   "cell_type": "markdown",
   "metadata": {},
   "source": [
    "### Rank of a Matrix\n"
   ]
  },
  {
   "cell_type": "markdown",
   "metadata": {},
   "source": [
    "The rank of a matrix is the number of dimension the rows of the matrix \"live in\".  You can verify the Matrix truly behaves like a  square matrix if it's <a href='https://en.wikipedia.org/wiki/Rank_(linear_algebra)?utm_medium=Exinfluencer&utm_source=Exinfluencer&utm_content=000026UJ&utm_term=10006555&utm_id=NA-SkillsNetwork-Channel-SkillsNetworkCoursesIBMML0187ENSkillsNetwork31430127-2022-01-01'>rank</a> is equal to the number of rows or columns, then it is referred to as **full rank**.\n"
   ]
  },
  {
   "cell_type": "code",
   "execution_count": 8,
   "metadata": {},
   "outputs": [
    {
     "data": {
      "text/plain": [
       "2"
      ]
     },
     "execution_count": 8,
     "metadata": {},
     "output_type": "execute_result"
    }
   ],
   "source": [
    "matrix_rank(A)"
   ]
  },
  {
   "cell_type": "markdown",
   "metadata": {},
   "source": [
    "We can plot the columns of $A$ as vectors.\n"
   ]
  },
  {
   "cell_type": "code",
   "execution_count": 9,
   "metadata": {},
   "outputs": [
    {
     "data": {
      "image/png": "[encoded data removed]",
      "text/plain": [
       "<Figure size 864x504 with 1 Axes>"
      ]
     },
     "metadata": {
      "needs_background": "light"
     },
     "output_type": "display_data"
    }
   ],
   "source": [
    "fig, ax = plt.subplots(figsize = (12, 7))\n",
    "\n",
    "ax.quiver([0, 0],[0, 0],A[0,0], A[1,0],scale=30,label=\"$a_{1}$\")\n",
    "ax.quiver([0, 0],[0, 0],A[0,1], A[1,1],scale=30,label=\"$a_{2}$\")\n",
    "plt.title(\"columns of $A$ \")\n",
    "plt.legend()\n",
    "plt.show()"
   ]
  },
  {
   "cell_type": "markdown",
   "metadata": {},
   "source": [
    "As the vectors are not parallel, we can define any point on the 2d space as a scaled  combination of those two vectors.\n",
    "\n",
    "If any of the columns in a matrix  are multiples of each other, the vectors point in the same direction and the matrix is not full rank.\n"
   ]
  },
  {
   "cell_type": "code",
   "execution_count": 10,
   "metadata": {},
   "outputs": [
    {
     "data": {
      "text/plain": [
       "1"
      ]
     },
     "execution_count": 10,
     "metadata": {},
     "output_type": "execute_result"
    }
   ],
   "source": [
    "F=np.array([[2,4],[4,8]])\n",
    "matrix_rank(F)"
   ]
  },
  {
   "cell_type": "markdown",
   "metadata": {},
   "source": [
    "We see the columns are pointing  in the same direction\n"
   ]
  },
  {
   "cell_type": "code",
   "execution_count": 11,
   "metadata": {},
   "outputs": [
    {
     "data": {
      "image/png": "[encoded data removed]",
      "text/plain": [
       "<Figure size 864x504 with 1 Axes>"
      ]
     },
     "metadata": {
      "needs_background": "light"
     },
     "output_type": "display_data"
    }
   ],
   "source": [
    "fig, ax = plt.subplots(figsize = (12, 7))\n",
    "ax.quiver([0, 0],[0, 0],F[0,1], F[1,1],scale=30,label=\"$f_{2}$\",color='red')\n",
    "ax.quiver([0, 0],[0, 0],F[0,0], F[1,0],scale=30,label=\"$f_{1}$\")\n",
    "plt.title(\"columns of $F$ \")\n",
    "plt.legend()\n",
    "plt.show()"
   ]
  },
  {
   "cell_type": "markdown",
   "metadata": {},
   "source": [
    "A common occurance is a matrix with more columns than rows, but in data, more rows than columns is more common. Consider the matrix $F$.\n"
   ]
  },
  {
   "cell_type": "code",
   "execution_count": 12,
   "metadata": {},
   "outputs": [
    {
     "data": {
      "text/latex": [
       "$\\displaystyle \\left[\\begin{matrix}1 & 2\\\\1 & -2\\\\-1 & 1\\end{matrix}\\right]$"
      ],
      "text/plain": [
       "⎡1   2 ⎤\n",
       "⎢      ⎥\n",
       "⎢1   -2⎥\n",
       "⎢      ⎥\n",
       "⎣-1  1 ⎦"
      ]
     },
     "execution_count": 12,
     "metadata": {},
     "output_type": "execute_result"
    }
   ],
   "source": [
    "F=np.array([[1,2],[1,-2],[-1,1]])\n",
    "Matrix(F)"
   ]
  },
  {
   "cell_type": "markdown",
   "metadata": {},
   "source": [
    "Although, the rows of matrix $F$ are 3 dimensions, you can only describe the point lying in the 2D plane, as shown here:\n"
   ]
  },
  {
   "cell_type": "code",
   "execution_count": 13,
   "metadata": {},
   "outputs": [
    {
     "data": {
      "image/png": "[encoded data removed]",
      "text/plain": [
       "<Figure size 432x288 with 1 Axes>"
      ]
     },
     "metadata": {
      "needs_background": "light"
     },
     "output_type": "display_data"
    }
   ],
   "source": [
    "ax = plt.figure().add_subplot(projection='3d')\n",
    "p=null_space(F.T)\n",
    "xx, yy = np.meshgrid(np.arange(-3,3,0.1), np.arange(-3,3,0.1))\n",
    "z=(p[0]*xx+p[1]*yy)/p[2]\n",
    "ax.plot_surface(xx, yy, z, alpha=0.1)\n",
    "ax.quiver([0,0], [0,0], [0,0], F[0,:], F[1,:], F[2,:])\n",
    "\n",
    "ax.set_xlim([-3, 3])\n",
    "ax.set_ylim([-3, 3])\n",
    "ax.set_zlim([-3, 3])\n",
    "plt.show()"
   ]
  },
  {
   "cell_type": "markdown",
   "metadata": {},
   "source": [
    "Therefore, the rank is 2.\n"
   ]
  },
  {
   "cell_type": "code",
   "execution_count": 14,
   "metadata": {},
   "outputs": [
    {
     "data": {
      "text/plain": [
       "2"
      ]
     },
     "execution_count": 14,
     "metadata": {},
     "output_type": "execute_result"
    }
   ],
   "source": [
    "matrix_rank(F)"
   ]
  },
  {
   "cell_type": "markdown",
   "metadata": {},
   "source": [
    "### Frobenius Norm of a Matrix\n"
   ]
  },
  {
   "cell_type": "markdown",
   "metadata": {},
   "source": [
    "The Frobenius norm, sometimes also called the **Euclidean norm**, is the matrix norm of an $m×n$. Matrix A is defined as the square root of the sum of the absolute squares of its elements:\n",
    "\n",
    "$$|A| *F = \\sqrt{\\sum*{i=1}^m \\sum\\_{j=1}^n |a\\_{ij}|^2}$$\n",
    "\n",
    "Let's use the matrix A again as an example:\n"
   ]
  },
  {
   "cell_type": "code",
   "execution_count": 15,
   "metadata": {},
   "outputs": [
    {
     "data": {
      "text/latex": [
       "$\\displaystyle \\left( \\left[\\begin{matrix}2 & -3\\\\4 & 7\\end{matrix}\\right], \\  8.83176086632785\\right)$"
      ],
      "text/plain": [
       "⎛⎡2  -3⎤                   ⎞\n",
       "⎜⎢     ⎥, 8.831760866327848⎟\n",
       "⎝⎣4  7 ⎦                   ⎠"
      ]
     },
     "execution_count": 15,
     "metadata": {},
     "output_type": "execute_result"
    }
   ],
   "source": [
    "Matrix(A), norm(A)"
   ]
  },
  {
   "cell_type": "markdown",
   "metadata": {},
   "source": [
    "You could also calculate the matrix norm manually, using the formula provided above, and confirm that the results are the same.\n"
   ]
  },
  {
   "cell_type": "code",
   "execution_count": 16,
   "metadata": {},
   "outputs": [
    {
     "data": {
      "image/png": "[encoded data removed]",
      "text/latex": [
       "$\\displaystyle 8.83176086632785$"
      ],
      "text/plain": [
       "8.831760866327848"
      ]
     },
     "execution_count": 16,
     "metadata": {},
     "output_type": "execute_result"
    }
   ],
   "source": [
    "m, n = A.shape[0], A.shape[1] # get number of rows and columns \n",
    "ss = 0\n",
    "\n",
    "for i in range(m):\n",
    "    for j in range(n):\n",
    "        ss += A[i,j] ** 2\n",
    "np.sqrt(ss)"
   ]
  },
  {
   "cell_type": "markdown",
   "metadata": {},
   "source": [
    "### Matrix Addition\n"
   ]
  },
  {
   "cell_type": "markdown",
   "metadata": {},
   "source": [
    "Consider matrix $B$:\n"
   ]
  },
  {
   "cell_type": "code",
   "execution_count": 17,
   "metadata": {},
   "outputs": [
    {
     "data": {
      "text/latex": [
       "$\\displaystyle \\left[\\begin{matrix}1 & 1\\\\1 & -1\\end{matrix}\\right]$"
      ],
      "text/plain": [
       "⎡1  1 ⎤\n",
       "⎢     ⎥\n",
       "⎣1  -1⎦"
      ]
     },
     "execution_count": 17,
     "metadata": {},
     "output_type": "execute_result"
    }
   ],
   "source": [
    "B=np.array([[1,1],[1,-1]])\n",
    "Matrix(B)"
   ]
  },
  {
   "cell_type": "markdown",
   "metadata": {},
   "source": [
    "In general, if we have matrix $\\mathbf{A}$ and matrix $\\mathbf{B}$\n"
   ]
  },
  {
   "cell_type": "markdown",
   "metadata": {},
   "source": [
    "$\\begin{align}\n",
    "\\mathbf{A}= \\begin{bmatrix}\n",
    "a\\_{11} & a\\_{12} & \\cdots & a\\_{1n} \\\\\\\\\\\\\n",
    "a\\_{21} & a\\_{22} & \\cdots & a\\_{2n} \\\\\\\\\\\\\n",
    "\\vdots & \\vdots & \\ddots & \\vdots \\\\\\\\\\\\\n",
    "a\\_{m1} & a\\_{m2} & \\cdots & a\\_{mn} \\\\\\\\\\\\\n",
    "\\end{bmatrix}\n",
    "\\end{align}$\n",
    "$\\begin{align}\n",
    "\\mathbf{B}=\\begin{bmatrix}\n",
    "b\\_{11} & b\\_{12} & \\cdots & b\\_{1n} \\\\\\\\\\\\\n",
    "b\\_{21} & b\\_{22} & \\cdots & b\\_{2n} \\\\\\\\\\\\\n",
    "\\vdots & \\vdots & \\ddots & \\vdots \\\\\\\\\\\\\n",
    "b\\_{m1} & b\\_{m2} & \\cdots & b\\_{mn} \\\\\\\\\\\\\n",
    "\\end{bmatrix}\n",
    "\\end{align}$\n"
   ]
  },
  {
   "cell_type": "markdown",
   "metadata": {},
   "source": [
    "To be added, the two matrices must have an equal number of rows and columns, where we add the corresponding row and column element:\n"
   ]
  },
  {
   "cell_type": "markdown",
   "metadata": {},
   "source": [
    "$\\begin{align}\n",
    "\\mathbf{A}+\\mathbf{B}=\\begin{bmatrix}\n",
    "a\\_{11} + b\\_{11} & a\\_{12} + b\\_{12} & \\cdots & a\\_{1n} + b\\_{1n} \\\\\\\\\\\\\n",
    "a\\_{21} + b\\_{21} & a\\_{22} + b\\_{22} & \\cdots & a\\_{2n} + b\\_{2n} \\\\\\\\\\\\\n",
    "\\vdots & \\vdots & \\ddots & \\vdots \\\\\\\\\\\\\n",
    "a\\_{m1} + b\\_{m1} & a\\_{m2} + b\\_{m2} & \\cdots & a\\_{mn} + b\\_{mn} \\\\\\\\\\\\\n",
    "\\end{bmatrix}\n",
    "\\end{align}$\n"
   ]
  },
  {
   "cell_type": "markdown",
   "metadata": {},
   "source": [
    "In numpy, we can add two arrays as follows:\n"
   ]
  },
  {
   "cell_type": "code",
   "execution_count": 18,
   "metadata": {},
   "outputs": [
    {
     "data": {
      "text/latex": [
       "$\\displaystyle \\left[\\begin{matrix}3 & -2\\\\5 & 6\\end{matrix}\\right]$"
      ],
      "text/plain": [
       "⎡3  -2⎤\n",
       "⎢     ⎥\n",
       "⎣5  6 ⎦"
      ]
     },
     "execution_count": 18,
     "metadata": {},
     "output_type": "execute_result"
    }
   ],
   "source": [
    "C=A+B\n",
    "Matrix(C)"
   ]
  },
  {
   "cell_type": "markdown",
   "metadata": {},
   "source": [
    "This matrix is symmetric. This means $B=B^{T}$, we can verify this in Python:\n"
   ]
  },
  {
   "cell_type": "code",
   "execution_count": 19,
   "metadata": {},
   "outputs": [
    {
     "data": {
      "text/latex": [
       "$\\displaystyle \\left[\\begin{matrix}1 & 1\\\\1 & -1\\end{matrix}\\right]$"
      ],
      "text/plain": [
       "⎡1  1 ⎤\n",
       "⎢     ⎥\n",
       "⎣1  -1⎦"
      ]
     },
     "execution_count": 19,
     "metadata": {},
     "output_type": "execute_result"
    }
   ],
   "source": [
    "B_T=B.T\n",
    "Matrix(B_T)"
   ]
  },
  {
   "cell_type": "markdown",
   "metadata": {},
   "source": [
    "Arbitrary semantic matrix $S=C+C^T$, where $C$ is any matrix.\n"
   ]
  },
  {
   "cell_type": "code",
   "execution_count": 20,
   "metadata": {},
   "outputs": [],
   "source": [
    "C=np.random.randn(2,2)\n",
    "S=C+C.T"
   ]
  },
  {
   "cell_type": "code",
   "execution_count": 21,
   "metadata": {},
   "outputs": [
    {
     "data": {
      "text/latex": [
       "$\\displaystyle \\left[\\begin{matrix}0.253886665831497 & -1.93514297132725\\\\-1.93514297132725 & 0.772885650881058\\end{matrix}\\right]$"
      ],
      "text/plain": [
       "⎡0.253886665831497  -1.93514297132725⎤\n",
       "⎢                                    ⎥\n",
       "⎣-1.93514297132725  0.772885650881058⎦"
      ]
     },
     "execution_count": 21,
     "metadata": {},
     "output_type": "execute_result"
    }
   ],
   "source": [
    "Matrix(S)"
   ]
  },
  {
   "cell_type": "code",
   "execution_count": 22,
   "metadata": {},
   "outputs": [
    {
     "data": {
      "text/latex": [
       "$\\displaystyle \\left[\\begin{matrix}0.253886665831497 & -1.93514297132725\\\\-1.93514297132725 & 0.772885650881058\\end{matrix}\\right]$"
      ],
      "text/plain": [
       "⎡0.253886665831497  -1.93514297132725⎤\n",
       "⎢                                    ⎥\n",
       "⎣-1.93514297132725  0.772885650881058⎦"
      ]
     },
     "execution_count": 22,
     "metadata": {},
     "output_type": "execute_result"
    }
   ],
   "source": [
    "Matrix(S.T)"
   ]
  },
  {
   "cell_type": "markdown",
   "metadata": {},
   "source": [
    "<b>Diagonal matrix</b> is a matrix in which the entries outside of the main diagonal are all zero.\n"
   ]
  },
  {
   "cell_type": "code",
   "execution_count": 23,
   "metadata": {},
   "outputs": [
    {
     "data": {
      "text/latex": [
       "$\\displaystyle \\left[\\begin{matrix}1 & 0 & 0\\\\0 & 2 & 0\\\\0 & 0 & 3\\end{matrix}\\right]$"
      ],
      "text/plain": [
       "⎡1  0  0⎤\n",
       "⎢       ⎥\n",
       "⎢0  2  0⎥\n",
       "⎢       ⎥\n",
       "⎣0  0  3⎦"
      ]
     },
     "execution_count": 23,
     "metadata": {},
     "output_type": "execute_result"
    }
   ],
   "source": [
    "Matrix(np.diag(np.array([1,2,3])))"
   ]
  },
  {
   "cell_type": "markdown",
   "metadata": {},
   "source": [
    "If the main diagonal is one, it's called a identity matrix in numpy.\n"
   ]
  },
  {
   "cell_type": "code",
   "execution_count": 24,
   "metadata": {},
   "outputs": [
    {
     "data": {
      "text/latex": [
       "$\\displaystyle \\left[\\begin{matrix}1.0 & 0.0 & 0.0\\\\0.0 & 1.0 & 0.0\\\\0.0 & 0.0 & 1.0\\end{matrix}\\right]$"
      ],
      "text/plain": [
       "⎡1.0  0.0  0.0⎤\n",
       "⎢             ⎥\n",
       "⎢0.0  1.0  0.0⎥\n",
       "⎢             ⎥\n",
       "⎣0.0  0.0  1.0⎦"
      ]
     },
     "execution_count": 24,
     "metadata": {},
     "output_type": "execute_result"
    }
   ],
   "source": [
    "Matrix(np.eye(3))"
   ]
  },
  {
   "cell_type": "markdown",
   "metadata": {},
   "source": [
    "## Matrix and Vector Multiplication\n"
   ]
  },
  {
   "cell_type": "markdown",
   "metadata": {},
   "source": [
    "### Dot-Product\n"
   ]
  },
  {
   "cell_type": "markdown",
   "metadata": {},
   "source": [
    "We can define a vector as a one dimensional array of $\\mathbf{a}$ and $\\mathbf{b}$, and we can find the dot product of the two as follows:\n"
   ]
  },
  {
   "cell_type": "markdown",
   "metadata": {},
   "source": [
    "$ a^T  b = \\sum\\_{i=1}^n a_i b_i = a\\_1 b\\_1 + \\cdots + a_n b_n$\n"
   ]
  },
  {
   "cell_type": "markdown",
   "metadata": {},
   "source": [
    "Where  $\\mathbf{a}$ and  $\\mathbf{b}$ have the same length, in numpy:\n"
   ]
  },
  {
   "cell_type": "code",
   "execution_count": 25,
   "metadata": {},
   "outputs": [],
   "source": [
    "a=np.array([1,1])\n",
    "b=np.array([1,2])"
   ]
  },
  {
   "cell_type": "markdown",
   "metadata": {},
   "source": [
    "We can verify that the dimension is one.\n"
   ]
  },
  {
   "cell_type": "code",
   "execution_count": 26,
   "metadata": {},
   "outputs": [
    {
     "data": {
      "image/png": "[encoded data removed]",
      "text/latex": [
       "$\\displaystyle 1$"
      ],
      "text/plain": [
       "1"
      ]
     },
     "execution_count": 26,
     "metadata": {},
     "output_type": "execute_result"
    }
   ],
   "source": [
    "a.ndim"
   ]
  },
  {
   "cell_type": "markdown",
   "metadata": {},
   "source": [
    "Find the dot product\n"
   ]
  },
  {
   "cell_type": "code",
   "execution_count": 27,
   "metadata": {},
   "outputs": [
    {
     "data": {
      "text/plain": [
       "3"
      ]
     },
     "execution_count": 27,
     "metadata": {},
     "output_type": "execute_result"
    }
   ],
   "source": [
    "a@b"
   ]
  },
  {
   "cell_type": "markdown",
   "metadata": {},
   "source": [
    "If the array is 2- dimension, the order matters. $a^{T}$ must be a row vector of shape $1xm$ and $b$ a column vector of shape $mx1$.\n"
   ]
  },
  {
   "cell_type": "markdown",
   "metadata": {},
   "source": [
    "$a^{T} = \\begin{bmatrix}\n",
    "a\\_{1},a\\_{2},..,a\\_{n}\n",
    "\\end{bmatrix}$\n",
    "\n",
    "$b = \\begin{bmatrix}\n",
    "b\\_{1} \\\\\\\\\\\\\n",
    "b\\_{2} \\\\\\\\\\\\\n",
    "\\vdots \\\\\\\\\\\\\n",
    "b\\_{n}\n",
    "\\end{bmatrix}$\n"
   ]
  },
  {
   "cell_type": "code",
   "execution_count": 28,
   "metadata": {},
   "outputs": [
    {
     "data": {
      "text/plain": [
       "array([[3]])"
      ]
     },
     "execution_count": 28,
     "metadata": {},
     "output_type": "execute_result"
    }
   ],
   "source": [
    "a=np.array([[1],[1]])\n",
    "b=np.array([[1],[2]])\n",
    "a.T@b"
   ]
  },
  {
   "cell_type": "markdown",
   "metadata": {},
   "source": [
    "### Exercise 1\n",
    "\n",
    "Calculate the dot product of $a$ and $one$.\n"
   ]
  },
  {
   "cell_type": "code",
   "execution_count": 29,
   "metadata": {},
   "outputs": [
    {
     "data": {
      "text/plain": [
       "array([2.])"
      ]
     },
     "execution_count": 29,
     "metadata": {},
     "output_type": "execute_result"
    }
   ],
   "source": [
    "one=np.ones(2)\n",
    "\n",
    "# TO DO \n",
    "a.T@one\n",
    "\n"
   ]
  },
  {
   "cell_type": "markdown",
   "metadata": {},
   "source": [
    "<details>\n",
    "    <summary>Click here for Solution</summary>\n",
    "\n",
    "```python\n",
    "a.T@one\n",
    "```\n",
    "\n",
    "</details>\n"
   ]
  },
  {
   "cell_type": "markdown",
   "metadata": {},
   "source": [
    "### The Outer product\n"
   ]
  },
  {
   "cell_type": "markdown",
   "metadata": {},
   "source": [
    "The outer product is another useful matrix operation. Consider the matrix or vector $ \\mathbf{u}$ of size $nx1$ and matrix or vector $\\mathbf{v}$ $1xm$. Then their outer product is:\n"
   ]
  },
  {
   "cell_type": "markdown",
   "metadata": {},
   "source": [
    "$\n",
    "\\mathbf{u} \\otimes \\mathbf{v} = \\mathbf{u}\\mathbf{v}^\\textsf{T} =\n",
    "\\begin{bmatrix}u\\_1 \\\\\\\\\\ u\\_2 \\ \\vdots\\ u_n\\end{bmatrix}\n",
    "\\begin{bmatrix}v\\_1 & .. & v_m\\end{bmatrix} =\n",
    "\\begin{bmatrix}\n",
    "u\\_1 v\\_1 & .. & u\\_1 v_m\\\\\\\\\\\\\n",
    "u\\_2 v\\_1 & u\\_2 v\\_2 & u\\_2 v\\_3 \\\\\\\\\\\\\n",
    "\\vdots   & \\ddots & \\vdots \\\\\\\\\\\\\n",
    "u_n v\\_1 &  .. & u_n v_m\n",
    "\\end{bmatrix}.\n",
    "$\n"
   ]
  },
  {
   "cell_type": "markdown",
   "metadata": {},
   "source": [
    "We can perform the outer product in numpy as follows\n"
   ]
  },
  {
   "cell_type": "code",
   "execution_count": 30,
   "metadata": {},
   "outputs": [
    {
     "data": {
      "text/latex": [
       "$\\displaystyle \\left[\\begin{matrix}0 & 1 & 2 & 3 & 6\\\\0 & 2 & 4 & 6 & 12\\\\0 & 3 & 6 & 9 & 18\\\\0 & 4 & 8 & 12 & 24\\end{matrix}\\right]$"
      ],
      "text/plain": [
       "⎡0  1  2  3   6 ⎤\n",
       "⎢               ⎥\n",
       "⎢0  2  4  6   12⎥\n",
       "⎢               ⎥\n",
       "⎢0  3  6  9   18⎥\n",
       "⎢               ⎥\n",
       "⎣0  4  8  12  24⎦"
      ]
     },
     "execution_count": 30,
     "metadata": {},
     "output_type": "execute_result"
    }
   ],
   "source": [
    "u= np.array([[1],[2],[3],[4]])\n",
    "v= np.array([[0],[1],[2],[3],[6]])\n",
    "# TO DO\n",
    "Matrix(u@v.T)"
   ]
  },
  {
   "cell_type": "markdown",
   "metadata": {},
   "source": [
    "<details>\n",
    "    <summary>Click here for Solution</summary>\n",
    "\n",
    "```python\n",
    "Matrix(u@v.T)\n",
    "```\n",
    "\n",
    "</details>\n"
   ]
  },
  {
   "cell_type": "markdown",
   "metadata": {},
   "source": [
    "### Exercise 2\n",
    "\n",
    "Create a matrix with 4 columns where each even column is  the vector  `u`  or else it is  zero, show the rank is one:\n"
   ]
  },
  {
   "cell_type": "code",
   "execution_count": 32,
   "metadata": {},
   "outputs": [
    {
     "data": {
      "text/latex": [
       "$\\displaystyle \\left[\\begin{matrix}0 & 1 & 0 & 1\\\\0 & 2 & 0 & 2\\end{matrix}\\right]$"
      ],
      "text/plain": [
       "⎡0  1  0  1⎤\n",
       "⎢          ⎥\n",
       "⎣0  2  0  2⎦"
      ]
     },
     "execution_count": 32,
     "metadata": {},
     "output_type": "execute_result"
    }
   ],
   "source": [
    "u=np.array([[1],[2]])\n",
    "# TO DO\n",
    "Matrix(u@np.array([[0,1,0,1]]))"
   ]
  },
  {
   "cell_type": "markdown",
   "metadata": {},
   "source": [
    "<details>\n",
    "    <summary>Click here for Solution</summary>\n",
    "\n",
    "```python\n",
    "Matrix(u@np.array([[0,1,0,1]]))\n",
    "```\n",
    "\n",
    "</details>\n"
   ]
  },
  {
   "cell_type": "markdown",
   "metadata": {},
   "source": [
    "### Matrix and Vector Multiplication\n"
   ]
  },
  {
   "cell_type": "markdown",
   "metadata": {},
   "source": [
    "We can also multiply a matrix by a vector and get a new vector. Consider the vector $\\mathbf{x}$:\n"
   ]
  },
  {
   "cell_type": "markdown",
   "metadata": {},
   "source": [
    "$\n",
    "\\mathbf{x}=\n",
    "\\begin{bmatrix}\n",
    "x\\_1 \\\\\\\\\\\\\n",
    "x\\_2 \\\\\\\\\\\\\n",
    "\\vdots \\\\\\\\\\\\\n",
    "x_n\n",
    "\\end{bmatrix}\n",
    "$\n"
   ]
  },
  {
   "cell_type": "markdown",
   "metadata": {},
   "source": [
    "The following  $\\mathbf{Ax}=\\mathbf b$  matrix multiplication  is defined as the dot product  $\\mathbf{x}$ with each row of $\\mathbf{A}$ :\n"
   ]
  },
  {
   "cell_type": "markdown",
   "metadata": {},
   "source": [
    "$\n",
    "\\begin{matrix}a\\_{11}x\\_1+\\cdots + a\\_{1n}x_n=b\\_1\n",
    "\\\\\\\\\\ a\\_{21}x\\_1+\\cdots + a\\_{2n}x_n =b\\_2\n",
    "\\\\\\\\\\ \\vdots\n",
    "\\\\\\\\\\ a\\_{m1}x\\_1+\\cdots + a\\_{mn}x_n =b_m\\end{matrix}\n",
    "$\n"
   ]
  },
  {
   "cell_type": "markdown",
   "metadata": {},
   "source": [
    "Where ,\n"
   ]
  },
  {
   "cell_type": "markdown",
   "metadata": {},
   "source": [
    "$\n",
    "\\mathbf{b}=\n",
    "\\begin{bmatrix}\n",
    "b\\_1 \\\\\\\\\\\\\n",
    "b\\_2 \\\\\\\\\\\\\n",
    "\\vdots \\\\\\\\\\\\\n",
    "b_m\n",
    "\\end{bmatrix}\n",
    "$\n"
   ]
  },
  {
   "cell_type": "markdown",
   "metadata": {},
   "source": [
    "In numpy:\n"
   ]
  },
  {
   "cell_type": "code",
   "execution_count": 33,
   "metadata": {},
   "outputs": [],
   "source": [
    "x=np.array([1,1])"
   ]
  },
  {
   "cell_type": "code",
   "execution_count": 34,
   "metadata": {},
   "outputs": [],
   "source": [
    "A=np.array([[-1,1],[1,2]])"
   ]
  },
  {
   "cell_type": "code",
   "execution_count": 35,
   "metadata": {},
   "outputs": [
    {
     "data": {
      "text/latex": [
       "$\\displaystyle \\left[\\begin{matrix}0\\\\3\\end{matrix}\\right]$"
      ],
      "text/plain": [
       "⎡0⎤\n",
       "⎢ ⎥\n",
       "⎣3⎦"
      ]
     },
     "execution_count": 35,
     "metadata": {},
     "output_type": "execute_result"
    }
   ],
   "source": [
    "b=A@x\n",
    "Matrix(b)"
   ]
  },
  {
   "cell_type": "markdown",
   "metadata": {},
   "source": [
    "We can see that $b$ is a combination of the rows of $A$:\n",
    "\n",
    "$\\mathbf{b}=x\\_{1}\\mathbf{a}*{1}+\\mathbf{x}*{2}a\\_{2}$ or $\\mathbf{b}$ is a rotation of  $\\mathbf{x}$\n"
   ]
  },
  {
   "cell_type": "code",
   "execution_count": 36,
   "metadata": {},
   "outputs": [
    {
     "data": {
      "image/png": "[encoded data removed]",
      "text/plain": [
       "<Figure size 864x504 with 1 Axes>"
      ]
     },
     "metadata": {
      "needs_background": "light"
     },
     "output_type": "display_data"
    }
   ],
   "source": [
    "fig, ax = plt.subplots(figsize = (12, 7))\n",
    "ax.quiver([0, 0],[0, 0],A[0,0], A[1,0],scale=10,label=\"$a_{1}$\")\n",
    "ax.quiver([0, 0],[0, 0],A[0,1], A[1,1],scale=10,label=\"$a_{2}$\")\n",
    "ax.quiver([0,0],[0,0],b[0], b[1],scale=10,label=\"b\",color='r')\n",
    "ax.quiver([0,0],[0,0],x[0], x[1],scale=10,label=\"x\",color='b')\n",
    "ax.set_xlim([-10,10])\n",
    "ax.set_ylim([-5,10])\n",
    "fig.legend()\n",
    "plt.show()"
   ]
  },
  {
   "cell_type": "markdown",
   "metadata": {},
   "source": [
    "### Multiplying Matrices\n"
   ]
  },
  {
   "cell_type": "markdown",
   "metadata": {},
   "source": [
    "If a matrix $\\mathbf{C}$ is the product of matrix $\\mathbf{A}$ and matrix $\\mathbf{B}$, then the $i-th$ row $j-th$ column is obtained by multiplying term-by-term the entries of the $i-th$ row of $\\mathbf{A}$ and the $j-th$ column of $\\mathbf{B}$, and summing these $n$ products. In other words, you can also think of the  $i-th$ row $j-th$ column as the dot product of the $i-th$ row of $\\mathbf{A}$  and the $j-th$ column of $\\mathbf{B}$:\n"
   ]
  },
  {
   "cell_type": "markdown",
   "metadata": {},
   "source": [
    "$\\mathbf{C}=\\mathbf{AB}$\n",
    "\n",
    "$=\\begin{pmatrix}\n",
    "a\\_{11}b\\_{11} +\\cdots + a\\_{1n}b\\_{n1} & a\\_{11}b\\_{12} +\\cdots + a\\_{1n}b\\_{n2} & \\cdots & a\\_{11}b\\_{1p} +\\cdots + a\\_{1n}b\\_{np} \\\\\\\\\\\\\n",
    "a\\_{21}b\\_{11} +\\cdots + a\\_{2n}b\\_{n1} & a\\_{21}b\\_{12} +\\cdots + a\\_{2n}b\\_{n2} & \\cdots & a\\_{21}b\\_{1p} +\\cdots + a\\_{2n}b\\_{np} \\\\\\\\\\\\\n",
    "\\vdots & \\vdots & \\ddots & \\vdots \\\\\\\\\\\\\n",
    "a\\_{m1}b\\_{11} +\\cdots + a\\_{mn}b\\_{n1} & a\\_{m1}b\\_{12} +\\cdots + a\\_{mn}b\\_{n2} & \\cdots & a\\_{m1}b\\_{1p} +\\cdots + a\\_{mn}b\\_{np} \\\\\\\\\\\\\n",
    "\\end{pmatrix} $\n"
   ]
  },
  {
   "cell_type": "code",
   "execution_count": 37,
   "metadata": {},
   "outputs": [
    {
     "data": {
      "text/latex": [
       "$\\displaystyle \\left[\\begin{matrix}0 & -2\\\\3 & -1\\end{matrix}\\right]$"
      ],
      "text/plain": [
       "⎡0  -2⎤\n",
       "⎢     ⎥\n",
       "⎣3  -1⎦"
      ]
     },
     "execution_count": 37,
     "metadata": {},
     "output_type": "execute_result"
    }
   ],
   "source": [
    "C=A@B\n",
    "Matrix(C)"
   ]
  },
  {
   "cell_type": "markdown",
   "metadata": {},
   "source": [
    "You can repeat the process for more matrices, if the matrix is full rank, we can invert it: $\\mathbf{A}^{-1}$\n"
   ]
  },
  {
   "cell_type": "code",
   "execution_count": 38,
   "metadata": {},
   "outputs": [
    {
     "data": {
      "text/latex": [
       "$\\displaystyle \\left[\\begin{matrix}-0.666666666666667 & 0.333333333333333\\\\0.333333333333333 & 0.333333333333333\\end{matrix}\\right]$"
      ],
      "text/plain": [
       "⎡-0.666666666666667  0.333333333333333⎤\n",
       "⎢                                     ⎥\n",
       "⎣0.333333333333333   0.333333333333333⎦"
      ]
     },
     "execution_count": 38,
     "metadata": {},
     "output_type": "execute_result"
    }
   ],
   "source": [
    "A_inv=inv(A)\n",
    "Matrix(A_inv)"
   ]
  },
  {
   "cell_type": "markdown",
   "metadata": {},
   "source": [
    "This can be a complex computation. If we multiply a matrix with its inverse, we get the Identity matrix $\\mathbf{AA}^{-1}=I$.\n"
   ]
  },
  {
   "cell_type": "code",
   "execution_count": 39,
   "metadata": {},
   "outputs": [
    {
     "data": {
      "text/latex": [
       "$\\displaystyle \\left[\\begin{matrix}1.0 & -1.11022302462516 \\cdot 10^{-16}\\\\0.0 & 1.0\\end{matrix}\\right]$"
      ],
      "text/plain": [
       "⎡1.0  -1.11022302462516e-16⎤\n",
       "⎢                          ⎥\n",
       "⎣0.0           1.0         ⎦"
      ]
     },
     "execution_count": 39,
     "metadata": {},
     "output_type": "execute_result"
    }
   ],
   "source": [
    "I=A_inv@A\n",
    "Matrix(I)"
   ]
  },
  {
   "cell_type": "markdown",
   "metadata": {},
   "source": [
    "If we multiply any square matrix with an Identity matrix, we get the original Matrix, for example $IA=A$ in numpy:\n"
   ]
  },
  {
   "cell_type": "code",
   "execution_count": 40,
   "metadata": {},
   "outputs": [
    {
     "data": {
      "text/plain": [
       "array([[-1.,  1.],\n",
       "       [ 1.,  2.]])"
      ]
     },
     "execution_count": 40,
     "metadata": {},
     "output_type": "execute_result"
    }
   ],
   "source": [
    "A@I"
   ]
  },
  {
   "cell_type": "markdown",
   "metadata": {},
   "source": [
    "### Exercise 3\n",
    "\n",
    "Use the inverse of  matrix $\\mathbf{A}$ to solve for $\\mathbf{x}$ given $\\mathbf{b}$ and assign it to `x_` compare the result to `x`\n"
   ]
  },
  {
   "cell_type": "code",
   "execution_count": 41,
   "metadata": {},
   "outputs": [
    {
     "name": "stdout",
     "output_type": "stream",
     "text": [
      "x_ : [1. 1.]\n",
      "x: [1 1]\n"
     ]
    }
   ],
   "source": [
    "# TO DO\n",
    "x_=A_inv@b\n",
    "print(\"x_ :\",x_)\n",
    "print(\"x:\",x)"
   ]
  },
  {
   "cell_type": "markdown",
   "metadata": {},
   "source": [
    "<details>\n",
    "    <summary>Click here for Solution</summary>\n",
    "\n",
    "```python\n",
    "x_=A_inv@b\n",
    "print(\"x_ :\",x_)\n",
    "print(\"x:\",x)\n",
    "```\n",
    "\n",
    "</details>\n"
   ]
  },
  {
   "cell_type": "markdown",
   "metadata": {},
   "source": [
    "Another type of matrixes is the **orthogonal matrix**. An <b>orthogonal matrix</b> is extremely useful: if matrix $Q$ is orthogonal, such as $Q^T=Q^{-1}$, the rows and columns are orthogonal also. For example:\n"
   ]
  },
  {
   "cell_type": "code",
   "execution_count": 42,
   "metadata": {},
   "outputs": [
    {
     "data": {
      "text/plain": [
       "array([[ 0.70710678,  0.70710678],\n",
       "       [ 0.70710678, -0.70710678]])"
      ]
     },
     "execution_count": 42,
     "metadata": {},
     "output_type": "execute_result"
    }
   ],
   "source": [
    "Q=np.array([[1,1],[1,-1]])*2**(-1/2)\n",
    "Q"
   ]
  },
  {
   "cell_type": "markdown",
   "metadata": {},
   "source": [
    "We can verify that $Q^T=Q^{-1}$:\n"
   ]
  },
  {
   "cell_type": "code",
   "execution_count": 43,
   "metadata": {},
   "outputs": [
    {
     "data": {
      "text/latex": [
       "$\\displaystyle \\left[\\begin{matrix}1.0 & 4.26642158858964 \\cdot 10^{-17}\\\\4.26642158858964 \\cdot 10^{-17} & 1.0\\end{matrix}\\right]$"
      ],
      "text/plain": [
       "⎡        1.0           4.26642158858964e-17⎤\n",
       "⎢                                          ⎥\n",
       "⎣4.26642158858964e-17          1.0         ⎦"
      ]
     },
     "execution_count": 43,
     "metadata": {},
     "output_type": "execute_result"
    }
   ],
   "source": [
    "I=Q@Q.T\n",
    "Matrix(I)"
   ]
  },
  {
   "cell_type": "markdown",
   "metadata": {},
   "source": [
    "For an <b>orthogonal matrix</b>, the columns are orthogonal:\n"
   ]
  },
  {
   "cell_type": "code",
   "execution_count": 44,
   "metadata": {},
   "outputs": [
    {
     "data": {
      "image/png": "[encoded data removed]",
      "text/plain": [
       "<Figure size 864x504 with 1 Axes>"
      ]
     },
     "metadata": {
      "needs_background": "light"
     },
     "output_type": "display_data"
    }
   ],
   "source": [
    "fig, ax = plt.subplots(figsize = (12, 7))\n",
    "ax.quiver([0, 0],[0, 0],B[0,0], B[1,0],scale=10,label=\"$q_{1}$\")\n",
    "ax.quiver([0, 0],[0, 0],B[0,1], B[1,1],scale=10,label=\"$q_{2}$\")\n",
    "plt.title(\"columns of $B$ \")\n",
    "plt.legend()\n",
    "plt.show()"
   ]
  },
  {
   "cell_type": "markdown",
   "metadata": {},
   "source": [
    "We usually place our data in a design matrix $X$, which is a matrix where each row represents an individual sample. Consider the following example `X_`\n"
   ]
  },
  {
   "cell_type": "code",
   "execution_count": 45,
   "metadata": {},
   "outputs": [
    {
     "data": {
      "text/plain": [
       "array([[ 8.1277189 ,  7.78558385],\n",
       "       [12.21317577, 11.63071489],\n",
       "       [13.50698428, 13.35319526],\n",
       "       [ 9.97731092, 10.24699594],\n",
       "       [14.15504858, 12.98077875]])"
      ]
     },
     "execution_count": 45,
     "metadata": {},
     "output_type": "execute_result"
    }
   ],
   "source": [
    "samples=200\n",
    "\n",
    "u=np.array([[1.0,1.0],[0.10,-0.10]])/(2)**(0.5)\n",
    "\n",
    "X_=np.dot(4*np.random.randn(samples,2),u)+10\n",
    "X_[0:5]"
   ]
  },
  {
   "cell_type": "markdown",
   "metadata": {},
   "source": [
    "We can plot the samples:\n"
   ]
  },
  {
   "cell_type": "code",
   "execution_count": 46,
   "metadata": {},
   "outputs": [
    {
     "data": {
      "image/png": "[encoded data removed]",
      "text/plain": [
       "<Figure size 432x288 with 1 Axes>"
      ]
     },
     "metadata": {
      "needs_background": "light"
     },
     "output_type": "display_data"
    }
   ],
   "source": [
    "dict_={\"design matrix samples\":X_}\n",
    "plot_2d(dict_)"
   ]
  },
  {
   "cell_type": "markdown",
   "metadata": {},
   "source": [
    "We can find the shape of the design matrix:\n"
   ]
  },
  {
   "cell_type": "code",
   "execution_count": 47,
   "metadata": {},
   "outputs": [
    {
     "name": "stdout",
     "output_type": "stream",
     "text": [
      "number of smaples 200, dimensions is 2\n"
     ]
    }
   ],
   "source": [
    "N,D=X_.shape\n",
    "print(\"number of smaples {}, dimensions is {}\".format(N,D))"
   ]
  },
  {
   "cell_type": "markdown",
   "metadata": {},
   "source": [
    "We can also perform lots of operations with Matrix multiplication, for example we can calculate the mean with the following:\n"
   ]
  },
  {
   "cell_type": "code",
   "execution_count": 48,
   "metadata": {},
   "outputs": [
    {
     "data": {
      "text/plain": [
       "array([[10.20983434, 10.2296001 ]])"
      ]
     },
     "execution_count": 48,
     "metadata": {},
     "output_type": "execute_result"
    }
   ],
   "source": [
    "mean=(np.ones((1,N))/N)@X_\n",
    "mean"
   ]
  },
  {
   "cell_type": "markdown",
   "metadata": {},
   "source": [
    "We can verify the result in numpy.\n"
   ]
  },
  {
   "cell_type": "code",
   "execution_count": 49,
   "metadata": {},
   "outputs": [
    {
     "data": {
      "text/plain": [
       "array([10.20983434, 10.2296001 ])"
      ]
     },
     "execution_count": 49,
     "metadata": {},
     "output_type": "execute_result"
    }
   ],
   "source": [
    "X_.mean(axis=0)"
   ]
  },
  {
   "cell_type": "markdown",
   "metadata": {
    "tags": []
   },
   "source": [
    "### Exercise 4\n",
    "\n",
    "Perform matrix multiplication using **no_mean** and **X\\_**, save the result in **X**. Show the mean of **X** with respect to the rows is approximately zero:\n"
   ]
  },
  {
   "cell_type": "code",
   "execution_count": 50,
   "metadata": {},
   "outputs": [],
   "source": [
    "I=np.identity(N)\n",
    "col1=np.ones((1,N))\n",
    "row1=np.ones((N,1))/N\n",
    "no_mean=(I-row1@col1)\n"
   ]
  },
  {
   "cell_type": "code",
   "execution_count": 51,
   "metadata": {},
   "outputs": [
    {
     "name": "stdout",
     "output_type": "stream",
     "text": [
      "mean of X [ 1.21902488e-15 -1.92512672e-15]\n"
     ]
    }
   ],
   "source": [
    "# TO DO\n",
    "X=no_mean@X_\n",
    "print(\"mean of X\",X.mean(axis=0))"
   ]
  },
  {
   "cell_type": "markdown",
   "metadata": {},
   "source": [
    "<details>\n",
    "    <summary>Click here for Solution</summary>\n",
    "\n",
    "```python\n",
    "X=no_mean@X_\n",
    "print(\"mean of X\",X.mean(axis=0))\n",
    "```\n",
    "\n",
    "</details>\n"
   ]
  },
  {
   "cell_type": "code",
   "execution_count": 52,
   "metadata": {},
   "outputs": [
    {
     "name": "stdout",
     "output_type": "stream",
     "text": [
      "[[10.20983434 10.2296001 ]]\n"
     ]
    },
    {
     "data": {
      "image/png": "[encoded data removed]",
      "text/plain": [
       "<Figure size 432x288 with 1 Axes>"
      ]
     },
     "metadata": {
      "needs_background": "light"
     },
     "output_type": "display_data"
    }
   ],
   "source": [
    "dict_={\"original data\":X_,\"zero mean data\":X,\"mean\":mean}\n",
    "plot_2d(dict_)    "
   ]
  },
  {
   "cell_type": "markdown",
   "metadata": {},
   "source": [
    "As we subtracted the mean, we can calculate the empirical covariance matrix using matrix multiplication.\n"
   ]
  },
  {
   "cell_type": "markdown",
   "metadata": {},
   "source": [
    "$C=\\frac{1}{N}   \\mathbf{X}^T \\mathbf{X} $\n"
   ]
  },
  {
   "cell_type": "code",
   "execution_count": 53,
   "metadata": {},
   "outputs": [
    {
     "data": {
      "text/latex": [
       "$\\displaystyle \\left[\\begin{matrix}8.24813506197968 & 8.16035678783771\\\\8.16035678783771 & 8.38056478452272\\end{matrix}\\right]$"
      ],
      "text/plain": [
       "⎡8.24813506197968  8.16035678783771⎤\n",
       "⎢                                  ⎥\n",
       "⎣8.16035678783771  8.38056478452272⎦"
      ]
     },
     "execution_count": 53,
     "metadata": {},
     "output_type": "execute_result"
    }
   ],
   "source": [
    "C=X.T@X/N\n",
    "Matrix(C)"
   ]
  },
  {
   "cell_type": "markdown",
   "metadata": {},
   "source": [
    "We can see the matrix is full rank:\n"
   ]
  },
  {
   "cell_type": "code",
   "execution_count": 54,
   "metadata": {},
   "outputs": [
    {
     "data": {
      "text/plain": [
       "2"
      ]
     },
     "execution_count": 54,
     "metadata": {},
     "output_type": "execute_result"
    }
   ],
   "source": [
    "matrix_rank(C)"
   ]
  },
  {
   "cell_type": "markdown",
   "metadata": {
    "tags": []
   },
   "source": [
    "## Eigen Decomposition\n"
   ]
  },
  {
   "cell_type": "markdown",
   "metadata": {},
   "source": [
    "### Eigenvectors and Eigenvalues\n"
   ]
  },
  {
   "cell_type": "markdown",
   "metadata": {},
   "source": [
    "If the Matrix is full rank we can apply Eigen factorization or Eigen decomposition to it, so that it is represented in terms of its eigenvalues $\\mathbf{\\Lambda}$ and eigenvectors embedded in $\\mathbf{Q}$, symbolically:\n"
   ]
  },
  {
   "cell_type": "markdown",
   "metadata": {},
   "source": [
    "$\\mathbf{A}=\\mathbf{Q}\\mathbf{\\Lambda}\\mathbf{Q}^{-1}$\n"
   ]
  },
  {
   "cell_type": "markdown",
   "metadata": {},
   "source": [
    "We can obtain the Matrices as follows:\n"
   ]
  },
  {
   "cell_type": "code",
   "execution_count": 55,
   "metadata": {},
   "outputs": [],
   "source": [
    "eigen_values , eigen_vectors = eig(A)"
   ]
  },
  {
   "cell_type": "markdown",
   "metadata": {},
   "source": [
    "`eigen_values` is a vector so we convert it to a diagonal matrix  using the `np.diag` function\n"
   ]
  },
  {
   "cell_type": "code",
   "execution_count": 56,
   "metadata": {},
   "outputs": [
    {
     "data": {
      "text/latex": [
       "$\\displaystyle \\left[\\begin{matrix}-1.30277563773199 & 0.0\\\\0.0 & 2.30277563773199\\end{matrix}\\right]$"
      ],
      "text/plain": [
       "⎡-1.30277563773199        0.0       ⎤\n",
       "⎢                                   ⎥\n",
       "⎣       0.0         2.30277563773199⎦"
      ]
     },
     "execution_count": 56,
     "metadata": {},
     "output_type": "execute_result"
    }
   ],
   "source": [
    "Matrix(np.diag(eigen_values))"
   ]
  },
  {
   "cell_type": "markdown",
   "metadata": {},
   "source": [
    "We can retrieve the original matrix as follows:\n"
   ]
  },
  {
   "cell_type": "code",
   "execution_count": 57,
   "metadata": {},
   "outputs": [
    {
     "data": {
      "text/latex": [
       "$\\displaystyle \\left[\\begin{matrix}-1.0 & 1.0\\\\1.0 & 2.0\\end{matrix}\\right]$"
      ],
      "text/plain": [
       "⎡-1.0  1.0⎤\n",
       "⎢         ⎥\n",
       "⎣1.0   2.0⎦"
      ]
     },
     "execution_count": 57,
     "metadata": {},
     "output_type": "execute_result"
    }
   ],
   "source": [
    "A=eigen_vectors@np.diag(eigen_values)@inv(eigen_vectors)\n",
    "Matrix(A)"
   ]
  },
  {
   "cell_type": "markdown",
   "metadata": {},
   "source": [
    "## Factorization for PCA\n"
   ]
  },
  {
   "cell_type": "markdown",
   "metadata": {},
   "source": [
    "We can only use  eigen decomposition if the matrix is full rank, but even if the matrix is full rank, the eigenvalues and eigenvectors could be complex.\n",
    "\n",
    "A useful application of the symmetric matrix ($S=S^{T}$) is where we want the eigenvalues to be real and the eigenvectors to be orthogonal. For example, the covariance matrix $C$ in PCA.\n"
   ]
  },
  {
   "cell_type": "markdown",
   "metadata": {},
   "source": [
    "$\\mathbf{C}=\\mathbf{V}\\mathbf{\\Lambda}\\mathbf{V}^{T}$\n"
   ]
  },
  {
   "cell_type": "markdown",
   "metadata": {},
   "source": [
    "Using numpy,\n"
   ]
  },
  {
   "cell_type": "code",
   "execution_count": 58,
   "metadata": {},
   "outputs": [],
   "source": [
    "eigen_values , eigen_vectors = eig(C)"
   ]
  },
  {
   "cell_type": "markdown",
   "metadata": {},
   "source": [
    "We can perform PCA using factorization. To find the first principle component, we need to find the eigenvector with the largest eigenvalue.\n"
   ]
  },
  {
   "cell_type": "code",
   "execution_count": 59,
   "metadata": {},
   "outputs": [
    {
     "data": {
      "text/plain": [
       "array([[-0.70423223],\n",
       "       [-0.7099697 ]])"
      ]
     },
     "execution_count": 59,
     "metadata": {},
     "output_type": "execute_result"
    }
   ],
   "source": [
    "v=eigen_vectors[:, np.argmax(eigen_values)].reshape(-1,1)\n",
    "v"
   ]
  },
  {
   "cell_type": "markdown",
   "metadata": {},
   "source": [
    "We can calculate first principal component by finding the projection of the original data onto $\\mathbf{v}$.\n"
   ]
  },
  {
   "cell_type": "markdown",
   "metadata": {},
   "source": [
    "$\\mathbf{Z}=\\mathbf{X} \\mathbf{v}$\n"
   ]
  },
  {
   "cell_type": "code",
   "execution_count": 60,
   "metadata": {},
   "outputs": [],
   "source": [
    "Z=X@v"
   ]
  },
  {
   "cell_type": "markdown",
   "metadata": {},
   "source": [
    "### Exercise 5\n",
    "\n",
    "Perform PCA with `n_components=1` on **X**. Store the transformed data in **X_transformed**. Also do an inverse_transform using the same fitted PCA object, store the result in **X\\_**.\n"
   ]
  },
  {
   "cell_type": "code",
   "execution_count": 61,
   "metadata": {},
   "outputs": [],
   "source": [
    "#TODO\n",
    "pca = PCA(n_components=1)\n",
    "X_transformed=pca.fit_transform(X)\n",
    "X_=pca.inverse_transform(X_transformed)"
   ]
  },
  {
   "cell_type": "markdown",
   "metadata": {},
   "source": [
    "<details>\n",
    "    <summary>Click here for Solution</summary>\n",
    "\n",
    "```python\n",
    "pca = PCA(n_components=1)\n",
    "X_transformed=pca.fit_transform(X)\n",
    "X_=pca.inverse_transform(X_transformed)\n",
    "\n",
    "```\n",
    "\n",
    "</details>\n"
   ]
  },
  {
   "cell_type": "markdown",
   "metadata": {},
   "source": [
    "We can also  transform the data back to its original space, using matrix multiplication:\n"
   ]
  },
  {
   "cell_type": "markdown",
   "metadata": {},
   "source": [
    "$\\hat{X}=\\mathbf{Z} \\mathbf{v}^T$\n"
   ]
  },
  {
   "cell_type": "markdown",
   "metadata": {},
   "source": [
    "### Exercise 6\n",
    "\n",
    "Find the transform data back to its original space from the above equation, call it **Xhat**.\n"
   ]
  },
  {
   "cell_type": "code",
   "execution_count": 62,
   "metadata": {},
   "outputs": [],
   "source": [
    "#TODO\n",
    "Xhat=Z@v.T"
   ]
  },
  {
   "cell_type": "markdown",
   "metadata": {},
   "source": [
    "<details>\n",
    "    <summary>Click here for Solution</summary>\n",
    "\n",
    "```python\n",
    "Xhat=Z@v.T\n",
    "```\n",
    "\n",
    "</details>\n"
   ]
  },
  {
   "cell_type": "markdown",
   "metadata": {},
   "source": [
    "You can also check that the two methods give the same \"inverse transform\" result (**X\\_** and **Xhat** will overlap in the plot) by running the following cell.\n"
   ]
  },
  {
   "cell_type": "code",
   "execution_count": 63,
   "metadata": {},
   "outputs": [
    {
     "name": "stdout",
     "output_type": "stream",
     "text": [
      "[[-0.70423223 -0.7099697 ]]\n"
     ]
    },
    {
     "data": {
      "image/png": "[encoded data removed]",
      "text/plain": [
       "<Figure size 432x288 with 1 Axes>"
      ]
     },
     "metadata": {
      "needs_background": "light"
     },
     "output_type": "display_data"
    }
   ],
   "source": [
    "dict_ = {\"Sklearn inverse_transform\": X_, \"Matrix inverse transform\": Xhat, \"First Principal Component\": v.T}\n",
    "plot_2d(dict_)"
   ]
  },
  {
   "cell_type": "markdown",
   "metadata": {},
   "source": [
    "# Congratulations! - You have completed the lab\n"
   ]
  },
  {
   "cell_type": "markdown",
   "metadata": {},
   "source": [
    "## Authors\n"
   ]
  },
  {
   "cell_type": "markdown",
   "metadata": {},
   "source": [
    "<a href=\"https://www.linkedin.com/in/joseph-s-50398b136/?utm_medium=Exinfluencer&utm_source=Exinfluencer&utm_content=000026UJ&utm_term=10006555&utm_id=NA-SkillsNetwork-Channel-SkillsNetworkCoursesIBMDeveloperSkillsNetworkML0101ENSkillsNetwork20718538-2021-01-01\">Joseph Santarcangelo</a> Joseph has a Ph.D. in Electrical Engineering, his research focused on using machine learning, signal processing, and computer vision to determine how videos impact human cognition. Joseph has been working for IBM since he completed his PhD.\n"
   ]
  },
  {
   "cell_type": "markdown",
   "metadata": {},
   "source": [
    "### Other Contributors\n"
   ]
  },
  {
   "cell_type": "markdown",
   "metadata": {},
   "source": [
    "[Roxanne Li](https://www.linkedin.com/in/roxanne-li/?utm_medium=Exinfluencer&utm_source=Exinfluencer&utm_content=000026UJ&utm_term=10006555&utm_id=NA-SkillsNetwork-Channel-SkillsNetworkCoursesIBMML0187ENSkillsNetwork31430127-2022-01-01) is a Data Science intern at IBM Skills Network, entering level-5 study in the Mathematics & Statistics undergraduate Coop program at McMaster University.\n"
   ]
  },
  {
   "cell_type": "markdown",
   "metadata": {},
   "source": [
    "## Change Log\n"
   ]
  },
  {
   "cell_type": "markdown",
   "metadata": {},
   "source": [
    "| Date (YYYY-MM-DD) | Version | Changed By  | Change Description  |\n",
    "| ----------------- | ------- | ----------- | ------------------- |\n",
    "| 2022-03-25        | 0.1     | Joseph S.   | Updated all content |\n",
    "| 2022-05-26        | 0.1     | Roxanne Li  | Review and edit     |\n",
    "| 2022-06-09        | 0.1     | Steve H.    | QA pass             |\n",
    "| 2022-07-15        | 0.1     | Svitlana K. | Review and edit     |\n"
   ]
  },
  {
   "cell_type": "markdown",
   "metadata": {},
   "source": [
    "Copyright © 2021 IBM Corporation. All rights reserved.\n"
   ]
  }
 ],
 "metadata": {
  "kernelspec": {
   "display_name": "Python 3",
   "language": "python",
   "name": "python3"
  },
  "language_info": {
   "codemirror_mode": {
    "name": "ipython",
    "version": 3
   },
   "file_extension": ".py",
   "mimetype": "text/x-python",
   "name": "python",
   "nbconvert_exporter": "python",
   "pygments_lexer": "ipython3",
   "version": "3.8.8"
  }
 },
 "nbformat": 4,
 "nbformat_minor": 4
}
